{
 "cells": [
  {
   "cell_type": "code",
   "execution_count": 102,
   "metadata": {},
   "outputs": [],
   "source": [
    "import os\n",
    "def setup_my_environment():\n",
    "    import os\n",
    "    \n",
    "def setenv(var, val):\n",
    "    os.environ[var] = val\n",
    "\n",
    " \n",
    "\n",
    "def prepend_path(var, val):\n",
    "    old_val = os.environ.get(var, '')\n",
    "    os.environ[var] = val + \":\" + old_val\n",
    "def setup_java():\n",
    "    PKG_ROOT='/ichec/packages/java/8'\n",
    "    setenv('JAVA_PATH', PKG_ROOT)\n",
    "    setenv('JAVA_HOME', PKG_ROOT)\n",
    "    prepend_path('PATH', PKG_ROOT + '/bin')\n",
    "    prepend_path('MANPATH', PKG_ROOT + '/man')\n",
    "    prepend_path('CPATH', PKG_ROOT + '/include')\n",
    "def setup_spark():\n",
    "    PKG_ROOT='/ichec/packages/spark/2.3.3/kay/spark-2.3.3'\n",
    "    setenv('SPARK_DIST_CLASSPATH', PKG_ROOT + 'spark-2.3.3-bin-kay-spark')\n",
    "    prepend_path('PATH', PKG_ROOT + PKG_ROOT + 'spark-2.3.3-bin-kay-spark/bin')\n",
    "setup_java()\n",
    "setup_spark()\n",
    "setup_my_environment()"
   ]
  },
  {
   "cell_type": "code",
   "execution_count": 103,
   "metadata": {},
   "outputs": [],
   "source": [
    "from pyspark import SparkConf\n",
    "from pyspark.context import SparkContext\n",
    "from pyspark.sql import SQLContext\n",
    "from pyspark.sql import SparkSession\n",
    "from pyspark.sql.functions import lower, col\n",
    "import matplotlib.pyplot as plt\n",
    "from wordcloud import WordCloud, STOPWORDS\n",
    "import seaborn as sns\n",
    "from pyspark.ml.classification import LogisticRegression, NaiveBayes, GBTClassifier\n",
    "from pyspark.mllib.classification import LogisticRegressionWithLBFGS, LogisticRegressionModel,LogisticRegressionWithSGD\n",
    "from sklearn.metrics import classification_report, confusion_matrix\n",
    "from pyspark.sql.types import *\n",
    "from nltk.corpus import stopwords\n",
    "from nltk import pos_tag\n",
    "import nltk"
   ]
  },
  {
   "cell_type": "code",
   "execution_count": 104,
   "metadata": {},
   "outputs": [],
   "source": [
    "# spark = SparkSession \\\n",
    "#     .builder \\\n",
    "#     .config(\"spark.executor.memory\", \"70g\") \\\n",
    "#     .config(\"spark.driver.memory\", \"90g\") \\\n",
    "#     .config(\"spark.memory.offHeap.enabled\",\"true\")\\\n",
    "#     .config(\"spark.memory.offHeap.size\",\"25g\")\\\n",
    "#     .config(\"spark.debug.maxToStringsFields\",\"100\")\\\n",
    "#     .appName(\"AmazonSentimentAnalysis\") \\\n",
    "#     .getOrCreate()\n",
    "#     .config(\"spark.driver.memory\", \"2g\") \\\n",
    "spark = SparkSession \\\n",
    "    .builder \\\n",
    "    .config(\"spark.executor.memory\", \"25g\") \\\n",
    "    .config(\"spark.executor.instances\",\"7\")\\\n",
    "    .config(\"spark.executor.cores\",\"5\")\\\n",
    "    .config(\"spark.debug.maxToStringsFields\",\"100\")\\\n",
    "    .appName(\"AmazonSentimentAnalysis\") \\\n",
    "    .getOrCreate()\n",
    "\n"
   ]
  },
  {
   "cell_type": "code",
   "execution_count": 105,
   "metadata": {},
   "outputs": [],
   "source": [
    "df1 = spark.read.json(\"/ichec/work/mucom001c/Amazon/review/AMAZON_FASHION.json\")\n",
    "\n",
    "\n",
    "\n",
    "\n",
    "from pyspark.ml.feature import Tokenizer\n",
    "import pandas as pd\n",
    "import numpy as np\n",
    "from pyspark.sql.functions import concat, col, lit, udf\n",
    "from pyspark.sql import functions as sf\n",
    "from pyspark.ml.feature import StopWordsRemover\n",
    "from pyspark.ml.feature import HashingTF, IDF\n",
    "from pyspark.ml import Pipeline\n",
    "from pyspark.ml.feature import  RegexTokenizer\n",
    "import re, string\n",
    "from pyspark.sql.types import *\n",
    "from nltk.stem import WordNetLemmatizer\n",
    "from vaderSentiment.vaderSentiment import SentimentIntensityAnalyzer\n",
    "from nltk.corpus import  wordnet\n",
    "from collections import Counter\n",
    "from pyspark.ml.classification import RandomForestClassifier\n",
    "from pyspark.ml.evaluation import MulticlassClassificationEvaluator\n",
    "from pyspark.ml.evaluation import BinaryClassificationEvaluator"
   ]
  },
  {
   "cell_type": "code",
   "execution_count": 106,
   "metadata": {},
   "outputs": [],
   "source": [
    "df = df1"
   ]
  },
  {
   "cell_type": "code",
   "execution_count": 107,
   "metadata": {},
   "outputs": [],
   "source": [
    "df = df.drop('verified','reviewerID','asin','reviewTime','reviewerName','unixReviewTime','vote','style','image')\n",
    "df = df.dropna()\n",
    "df = df.withColumn('reviewsummary', sf.concat(sf.col('reviewText'),sf.lit(' '), sf.col('summary')))"
   ]
  },
  {
   "cell_type": "code",
   "execution_count": 108,
   "metadata": {},
   "outputs": [],
   "source": [
    "df =df.select(\"*\", lower(col('reviewsummary')))\n",
    "\n",
    "df = df.drop('reviewsummary')\n",
    "df = df.withColumnRenamed(\"lower(reviewsummary)\",\"reviewsummary\")"
   ]
  },
  {
   "cell_type": "code",
   "execution_count": 109,
   "metadata": {},
   "outputs": [],
   "source": [
    "df = df.drop('reviewText','summary')\n",
    "# df.show(5)\n"
   ]
  },
  {
   "cell_type": "code",
   "execution_count": 93,
   "metadata": {},
   "outputs": [
    {
     "name": "stdout",
     "output_type": "stream",
     "text": [
      "+-------+-----+\n",
      "|overall|count|\n",
      "+-------+-----+\n",
      "|    5.0|  544|\n",
      "|    4.0|  218|\n",
      "|    3.0|  106|\n",
      "|    1.0|   69|\n",
      "|    2.0|   62|\n",
      "+-------+-----+\n",
      "\n"
     ]
    }
   ],
   "source": [
    "df.groupBy(\"overall\").count().orderBy(col(\"count\").desc()).show()"
   ]
  },
  {
   "cell_type": "code",
   "execution_count": 110,
   "metadata": {},
   "outputs": [],
   "source": [
    "def condition(rating):\n",
    "    if (rating <3):\n",
    "        label=\"negative\"\n",
    "    elif(rating >3):\n",
    "        label=\"positive\"\n",
    "    else:\n",
    "        label=\"neutral\"\n",
    "    return label\n",
    "sentiment_udf = udf(lambda x: condition(x), StringType())\n",
    "\n",
    "df = df.withColumn('Sentiment',sentiment_udf(df['overall']))\n"
   ]
  },
  {
   "cell_type": "code",
   "execution_count": 60,
   "metadata": {},
   "outputs": [
    {
     "name": "stdout",
     "output_type": "stream",
     "text": [
      "+-------+--------------------+---------+\n",
      "|overall|       reviewsummary|Sentiment|\n",
      "+-------+--------------------+---------+\n",
      "|    5.0|exactly what i ne...| positive|\n",
      "|    2.0|i agree with the ...| negative|\n",
      "|    4.0|love these... i a...| positive|\n",
      "|    2.0|too tiny an openi...| negative|\n",
      "|    3.0|    okay three stars|  neutral|\n",
      "|    5.0|exactly what i wa...| positive|\n",
      "|    4.0|these little plas...| positive|\n",
      "|    3.0|mother - in - law...|  neutral|\n",
      "|    3.0|item is of good q...|  neutral|\n",
      "|    3.0|i had used my las...|  neutral|\n",
      "+-------+--------------------+---------+\n",
      "only showing top 10 rows\n",
      "\n"
     ]
    }
   ],
   "source": [
    "df.show(10,True)"
   ]
  },
  {
   "cell_type": "code",
   "execution_count": 111,
   "metadata": {},
   "outputs": [
    {
     "data": {
      "text/plain": [
       "881900"
      ]
     },
     "execution_count": 111,
     "metadata": {},
     "output_type": "execute_result"
    }
   ],
   "source": [
    "df=df.filter((sf.col('overall')!=0))\n",
    "df.count()"
   ]
  },
  {
   "cell_type": "code",
   "execution_count": 112,
   "metadata": {},
   "outputs": [],
   "source": [
    "def toBinary(score):\n",
    "    if score >= 3: return 1\n",
    "    else: return 0\n",
    "udfScoretoBinary=udf(toBinary, StringType())"
   ]
  },
  {
   "cell_type": "code",
   "execution_count": 113,
   "metadata": {},
   "outputs": [],
   "source": [
    "df = df.withColumn(\"Target\", udfScoretoBinary(\"overall\"))\n",
    "# df.show(10)"
   ]
  },
  {
   "cell_type": "code",
   "execution_count": 114,
   "metadata": {},
   "outputs": [],
   "source": [
    "def lower(text):\n",
    "    return text.lower()\n",
    "\n",
    "lower_udf=udf(lower,StringType())"
   ]
  },
  {
   "cell_type": "code",
   "execution_count": 115,
   "metadata": {},
   "outputs": [],
   "source": [
    "##Remove nonAscii\n",
    "def strip_non_ascii(data_str):\n",
    "#''' Returns the string without non ASCII characters'''\n",
    "    stripped = (c for c in data_str if 0 < ord(c) < 127)\n",
    "    return ''.join(stripped)\n",
    "# setup pyspark udf function\n",
    "strip_non_ascii_udf = udf(strip_non_ascii, StringType())"
   ]
  },
  {
   "cell_type": "code",
   "execution_count": 116,
   "metadata": {},
   "outputs": [],
   "source": [
    "##FIx abbreviations\n",
    "def fix_abbreviation(data_str):\n",
    "    data_str = data_str.lower()\n",
    "    data_str = re.sub(r'\\bthats\\b', 'that is', data_str)\n",
    "    data_str = re.sub(r'\\bive\\b', 'i have', data_str)\n",
    "    data_str = re.sub(r'\\bim\\b', 'i am', data_str)\n",
    "    data_str = re.sub(r'\\bya\\b', 'yeah', data_str)\n",
    "    data_str = re.sub(r'\\bcant\\b', 'can not', data_str)\n",
    "    data_str = re.sub(r'\\bdont\\b', 'do not', data_str)\n",
    "    data_str = re.sub(r'\\bwont\\b', 'will not', data_str)\n",
    "    data_str = re.sub(r'\\bid\\b', 'i would', data_str)\n",
    "    data_str = re.sub(r'wtf', 'what the fuck', data_str)\n",
    "    data_str = re.sub(r'\\bwth\\b', 'what the hell', data_str)\n",
    "    data_str = re.sub(r'\\br\\b', 'are', data_str)\n",
    "    data_str = re.sub(r'\\bu\\b', 'you', data_str)\n",
    "    data_str = re.sub(r'\\bk\\b', 'OK', data_str)\n",
    "    data_str = re.sub(r'\\bsux\\b', 'sucks', data_str)\n",
    "    data_str = re.sub(r'\\bno+\\b', 'no', data_str)\n",
    "    data_str = re.sub(r'\\bcoo+\\b', 'cool', data_str)\n",
    "    data_str = re.sub(r'rt\\b', '', data_str)\n",
    "    data_str = data_str.strip()\n",
    "    return data_str"
   ]
  },
  {
   "cell_type": "code",
   "execution_count": 117,
   "metadata": {},
   "outputs": [],
   "source": [
    "##Remove punctuations mentions and alphanumeric characters\n",
    "\n",
    "def remove_features(data_str):\n",
    "# compile regex\n",
    "    url_re = re.compile('https?://(www.)?\\w+\\.\\w+(/\\w+)*/?')\n",
    "    punc_re = re.compile('[%s]' % re.escape(string.punctuation))\n",
    "    num_re = re.compile('(\\\\d+)')\n",
    "    mention_re = re.compile('@(\\w+)')\n",
    "    alpha_num_re = re.compile(\"^[a-z0-9_.]+$\")\n",
    "# convert to lowercase\n",
    "    data_str = data_str.lower()\n",
    "# remove hyperlinks\n",
    "    data_str = url_re.sub(' ', data_str)\n",
    "# remove @mentions\n",
    "    data_str = mention_re.sub(' ', data_str)\n",
    "# remove puncuation\n",
    "    data_str = punc_re.sub(' ', str(data_str))\n",
    "# remove numeric 'words'\n",
    "    data_str = num_re.sub(' ', data_str)\n",
    "# remove non a-z 0-9 characters and words shorter than 1 characters\n",
    "    list_pos = 0\n",
    "    cleaned_str = ''\n",
    "    for word in data_str.split():\n",
    "        if list_pos == 0:\n",
    "            if alpha_num_re.match(word):\n",
    "                cleaned_str = word\n",
    "            else:\n",
    "                cleaned_str = ' '\n",
    "        else:\n",
    "            if alpha_num_re.match(word):\n",
    "                cleaned_str = cleaned_str + ' ' + word\n",
    "            else:\n",
    "                cleaned_str += ' '\n",
    "        list_pos += 1\n",
    "# remove unwanted space, *.split() will automatically split on\n",
    "# whitespace and discard duplicates, the \" \".join() joins the\n",
    "# resulting list into one string.\n",
    "    return \" \".join(cleaned_str.split())\n",
    "# setup pyspark udf function"
   ]
  },
  {
   "cell_type": "code",
   "execution_count": 118,
   "metadata": {},
   "outputs": [],
   "source": [
    "##Remove stop words\n",
    "def remove_stops(data_str):\n",
    "# expects a string\n",
    "    stopWords = set(stopwords.words(\"english\"))\n",
    "    list_pos = 0\n",
    "    cleaned_str = ''\n",
    "    text = data_str.split()\n",
    "    for word in text:\n",
    "        if word not in stopWords:\n",
    "# rebuild cleaned_str\n",
    "            if list_pos == 0:\n",
    "                cleaned_str = word\n",
    "            else:\n",
    "                cleaned_str = cleaned_str + ' ' + word\n",
    "            list_pos += 1\n",
    "    return cleaned_str"
   ]
  },
  {
   "cell_type": "code",
   "execution_count": 119,
   "metadata": {},
   "outputs": [],
   "source": [
    "# Part-of-Speech Tagging\n",
    "def tag_and_remove(data_str):\n",
    "    cleaned_str = ' '\n",
    "# noun tags\n",
    "    nn_tags = ['NN', 'NNP', 'NNP', 'NNPS', 'NNS']\n",
    "# adjectives\n",
    "    jj_tags = ['JJ', 'JJR', 'JJS']\n",
    "# verbs\n",
    "    vb_tags = ['VB', 'VBD', 'VBG', 'VBN', 'VBP', 'VBZ']\n",
    "    nltk_tags = nn_tags + jj_tags + vb_tags\n",
    "# break string into 'words'\n",
    "    text = data_str.split()\n",
    "# tag the text and keep only those with the right tags\n",
    "    tagged_text = pos_tag(text)\n",
    "    for tagged_word in tagged_text:\n",
    "        if tagged_word[1] in nltk_tags:\n",
    "            cleaned_str += tagged_word[0] + ' '\n",
    "    return cleaned_str"
   ]
  },
  {
   "cell_type": "code",
   "execution_count": 120,
   "metadata": {},
   "outputs": [],
   "source": [
    "##Lemmatization\n",
    "def lemmatize(data_str):\n",
    "# expects a string\n",
    "    list_pos = 0\n",
    "    cleaned_str = ''\n",
    "    lmtzr = WordNetLemmatizer()\n",
    "    text = data_str.split()\n",
    "    tagged_words = pos_tag(text)\n",
    "    for word in tagged_words:\n",
    "        if 'v' in word[1].lower():\n",
    "            lemma = lmtzr.lemmatize(word[0], pos='v')\n",
    "        else:\n",
    "            lemma = lmtzr.lemmatize(word[0], pos='n')\n",
    "        if list_pos == 0:\n",
    "            cleaned_str = lemma\n",
    "        else:\n",
    "            cleaned_str = cleaned_str + ' ' + lemma\n",
    "        list_pos += 1\n",
    "    return cleaned_str\n"
   ]
  },
  {
   "cell_type": "code",
   "execution_count": 121,
   "metadata": {},
   "outputs": [],
   "source": [
    "# lower_udf =udf(lower,StringType())\n",
    "# strip_non_ascii_udf = udf(strip_non_ascii, StringType())\n",
    "fix_abbreviation_udf = udf(fix_abbreviation, StringType())"
   ]
  },
  {
   "cell_type": "code",
   "execution_count": 122,
   "metadata": {},
   "outputs": [],
   "source": [
    "remove_features_udf = udf(remove_features, StringType())"
   ]
  },
  {
   "cell_type": "code",
   "execution_count": 123,
   "metadata": {},
   "outputs": [],
   "source": [
    "remove_stops_udf = udf(remove_stops, StringType())"
   ]
  },
  {
   "cell_type": "code",
   "execution_count": 124,
   "metadata": {},
   "outputs": [],
   "source": [
    "tag_and_remove_udf = udf(tag_and_remove, StringType())"
   ]
  },
  {
   "cell_type": "code",
   "execution_count": 125,
   "metadata": {},
   "outputs": [],
   "source": [
    "lemmatize_udf = udf(lemmatize, StringType())"
   ]
  },
  {
   "cell_type": "code",
   "execution_count": 42,
   "metadata": {},
   "outputs": [],
   "source": []
  },
  {
   "cell_type": "code",
   "execution_count": 29,
   "metadata": {},
   "outputs": [
    {
     "name": "stdout",
     "output_type": "stream",
     "text": [
      "[nltk_data] Error loading stopwords: <urlopen error [Errno 101]\n",
      "[nltk_data]     Network is unreachable>\n"
     ]
    },
    {
     "data": {
      "text/plain": [
       "False"
      ]
     },
     "execution_count": 29,
     "metadata": {},
     "output_type": "execute_result"
    }
   ],
   "source": [
    "nltk.download('stopwords')"
   ]
  },
  {
   "cell_type": "code",
   "execution_count": 46,
   "metadata": {},
   "outputs": [],
   "source": []
  },
  {
   "cell_type": "code",
   "execution_count": 126,
   "metadata": {},
   "outputs": [],
   "source": [
    "df = df.withColumn(\"lower_text\",lower_udf(df[\"reviewsummary\"]))\n"
   ]
  },
  {
   "cell_type": "code",
   "execution_count": 67,
   "metadata": {},
   "outputs": [
    {
     "name": "stdout",
     "output_type": "stream",
     "text": [
      "+-------+--------------------+---------+------+--------------------+\n",
      "|overall|       reviewsummary|Sentiment|Target|          lower_text|\n",
      "+-------+--------------------+---------+------+--------------------+\n",
      "|    5.0|exactly what i ne...| positive|     1|exactly what i ne...|\n",
      "|    2.0|i agree with the ...| negative|     0|i agree with the ...|\n",
      "|    4.0|love these... i a...| positive|     1|love these... i a...|\n",
      "|    2.0|too tiny an openi...| negative|     0|too tiny an openi...|\n",
      "|    3.0|    okay three stars|  neutral|     1|    okay three stars|\n",
      "|    5.0|exactly what i wa...| positive|     1|exactly what i wa...|\n",
      "|    4.0|these little plas...| positive|     1|these little plas...|\n",
      "|    3.0|mother - in - law...|  neutral|     1|mother - in - law...|\n",
      "|    3.0|item is of good q...|  neutral|     1|item is of good q...|\n",
      "|    3.0|i had used my las...|  neutral|     1|i had used my las...|\n",
      "+-------+--------------------+---------+------+--------------------+\n",
      "only showing top 10 rows\n",
      "\n"
     ]
    }
   ],
   "source": [
    "df.show(10)"
   ]
  },
  {
   "cell_type": "code",
   "execution_count": 127,
   "metadata": {},
   "outputs": [],
   "source": [
    "df = df.withColumn(\"text_non_asci\",fix_abbreviation_udf(df[\"lower_text\"]))\n",
    "# df.show(10)"
   ]
  },
  {
   "cell_type": "code",
   "execution_count": 128,
   "metadata": {},
   "outputs": [],
   "source": [
    "df = df.withColumn(\"fixed_abbrev\",fix_abbreviation_udf(df[\"text_non_asci\"]))\n",
    "# df.show(100)\n"
   ]
  },
  {
   "cell_type": "code",
   "execution_count": 129,
   "metadata": {},
   "outputs": [],
   "source": [
    "remove_features_udf = udf(remove_features, StringType())\n",
    "df = df.withColumn('removed_features',remove_features_udf(df['fixed_abbrev']))\n"
   ]
  },
  {
   "cell_type": "code",
   "execution_count": null,
   "metadata": {},
   "outputs": [],
   "source": []
  },
  {
   "cell_type": "code",
   "execution_count": 130,
   "metadata": {},
   "outputs": [],
   "source": [
    "remove_stops_udf = udf(remove_stops, StringType())"
   ]
  },
  {
   "cell_type": "code",
   "execution_count": 131,
   "metadata": {},
   "outputs": [],
   "source": [
    "df_no_stop_words = df.withColumn(\"removed_stops\", remove_stops_udf(\"removed_features\")).select('reviewsummary','removed_stops','Target')\n",
    "# df_no_stop_words.show(5)\n",
    "#if this line of code fails with pickling error run the above line \"remove_stops_udf\" and then run the current line."
   ]
  },
  {
   "cell_type": "code",
   "execution_count": 132,
   "metadata": {},
   "outputs": [],
   "source": [
    "df_pos_tagging=df_no_stop_words.withColumn(\"tag_and_remove_pos\", tag_and_remove_udf(\"removed_stops\")).select('reviewsummary','tag_and_remove_pos','Target')\n",
    "# df_pos_tagging.show(5)"
   ]
  },
  {
   "cell_type": "code",
   "execution_count": 133,
   "metadata": {},
   "outputs": [
    {
     "name": "stdout",
     "output_type": "stream",
     "text": [
      "Row(words=['exactly', 'needed', 'perfect', 'replacements'], Target='1')\n",
      "Row(words=['agree', 'review', 'opening', 'small', 'almost', 'bent', 'hook', 'expensive', 'earrings', 'trying', 'get', 'higher', 'end', 'seen', 'would', 'buy', 'price', 'sending', 'back', 'agree', 'review', 'opening'], Target='0')\n",
      "Row(words=['love', 'going', 'order', 'another', 'pack', 'keep', 'work', 'someone', 'including', 'always', 'losing', 'back', 'earring', 'understand', 'fish', 'hook', 'earrings', 'wish', 'tiny', 'bit', 'longer', 'new', 'friends'], Target='1')\n",
      "Row(words=['tiny', 'opening', 'two', 'stars'], Target='0')\n",
      "Row(words=['okay', 'three', 'stars'], Target='1')\n",
      "Row(words=['exactly', 'wanted', 'five', 'stars'], Target='1')\n",
      "Row(words=['little', 'plastic', 'backs', 'work', 'great', 'loosing', 'hook', 'earrings', 'wish', 'ordered', 'sooner', 'lost', 'favorite', 'earrings', 'works', 'great'], Target='1')\n",
      "Row(words=['mother', 'law', 'wanted', 'present', 'sister', 'liked', 'said', 'would', 'work', 'bought', 'present'], Target='1')\n",
      "Row(words=['item', 'good', 'quality', 'looks', 'great', 'fit', 'stretched', 'fit', 'carefully', 'push', 'bottom', 'case', 'fingers', 'shove', 'pack', 'max', 'level', 'close', 'case', 'stretching', 'case', 'closed', 'leave', 'pk', 'month', 'la', 'buxton', 'usually', 'good', 'quality', 'product', 'buxton', 'heiress', 'collection'], Target='1')\n",
      "Row(words=['used', 'last', 'el', 'cheapo', 'fake', 'leather', 'cigarette', 'case', 'seven', 'years', 'still', 'closed', 'completely', 'plastic', 'made', 'look', 'like', 'leather', 'literally', 'falling', 'time', 'new', 'one', 'cigarette', 'cases', 'kings', 'size', 'cigs', 'easy', 'come', 'days', 'discovered', 'thrilled', 'find', 'one', 'amazon', 'great', 'price', 'real', 'leather', 'even', 'cool', 'zipper', 'pouch', 'back', 'excited', 'get', 'case', 'toss', 'one', 'well', 'within', 'three', 'days', 'one', 'gold', 'clasps', 'literally', 'broke', 'believe', 'tried', 'super', 'glue', 'back', 'successful', 'still', 'use', 'case', 'close', 'securely', 'disappointed', 'plastic', 'one', 'lasted', 'years', 'real', 'nice', 'leather', 'one', 'lasted', 'days', 'still', 'love', 'zipper', 'pouch', 'back', 'great', 'spare', 'key', 'car', 'go', 'anywhere', 'without', 'cigarettes', 'top', 'clasp', 'broke', 'within', 'days'], Target='1')\n"
     ]
    }
   ],
   "source": [
    "tokenizer = Tokenizer(inputCol=\"removed_stops\", outputCol=\"words\")\n",
    "wordsDataFrame = tokenizer.transform(df_no_stop_words)\n",
    "for words_label in wordsDataFrame.select(\"words\", \"Target\").take(10):\n",
    "    print(words_label)"
   ]
  },
  {
   "cell_type": "code",
   "execution_count": 134,
   "metadata": {},
   "outputs": [],
   "source": [
    "df_text = df.withColumn(\"text_lower\",lower_udf(df[\"reviewsummary\"])).select('text_lower','Target')"
   ]
  },
  {
   "cell_type": "code",
   "execution_count": 37,
   "metadata": {},
   "outputs": [
    {
     "name": "stdout",
     "output_type": "stream",
     "text": [
      "+--------------------+------+\n",
      "|          text_lower|Target|\n",
      "+--------------------+------+\n",
      "|exactly what i ne...|     1|\n",
      "|i agree with the ...|     0|\n",
      "|love these... i a...|     1|\n",
      "|too tiny an openi...|     0|\n",
      "|    okay three stars|     1|\n",
      "|exactly what i wa...|     1|\n",
      "|these little plas...|     1|\n",
      "|mother - in - law...|     1|\n",
      "|item is of good q...|     1|\n",
      "|i had used my las...|     1|\n",
      "+--------------------+------+\n",
      "only showing top 10 rows\n",
      "\n"
     ]
    }
   ],
   "source": [
    "df_text.show(10)"
   ]
  },
  {
   "cell_type": "code",
   "execution_count": 135,
   "metadata": {},
   "outputs": [],
   "source": [
    "\n",
    "remover = StopWordsRemover(inputCol=\"words\", outputCol=\"words_filtered\")\n",
    "wordsDataFrame1 = remover.transform(wordsDataFrame).select(\"Target\",\"words_filtered\")\n",
    "# wordsDataFrame1.show(2)"
   ]
  },
  {
   "cell_type": "code",
   "execution_count": 136,
   "metadata": {},
   "outputs": [],
   "source": [
    "df_text_lemma=df_no_stop_words.withColumn(\"lemmatized_text\",lemmatize_udf(\"removed_stops\")).select('reviewsummary','lemmatized_text','Target')\n",
    "# df_text_lemma.show(100)"
   ]
  },
  {
   "cell_type": "code",
   "execution_count": 137,
   "metadata": {},
   "outputs": [],
   "source": [
    "from pyspark.sql.functions import monotonically_increasing_id\n",
    "# Create Unique ID\n",
    "df_text_lemma = df_text_lemma.withColumn(\"uid\", monotonically_increasing_id())\n",
    "# df_text_lemma.show(4)"
   ]
  },
  {
   "cell_type": "code",
   "execution_count": 138,
   "metadata": {},
   "outputs": [],
   "source": [
    "\n",
    "data = df_text_lemma.select('uid', 'lemmatized_text','Target')\n",
    "#data=wordsDataFrame2\n",
    "# data.show(4)"
   ]
  },
  {
   "cell_type": "code",
   "execution_count": 139,
   "metadata": {},
   "outputs": [],
   "source": [
    "(trainingData, testData) = data.randomSplit([0.7, 0.3])"
   ]
  },
  {
   "cell_type": "code",
   "execution_count": 140,
   "metadata": {},
   "outputs": [],
   "source": [
    "trainingData\n",
    "#Renaming features for modeling\n",
    "training = trainingData.selectExpr(\"lemmatized_text as text\", \"Target as label\")\n",
    "training = training.withColumn(\"label\", training[\"label\"].cast(DoubleType()))"
   ]
  },
  {
   "cell_type": "code",
   "execution_count": 141,
   "metadata": {},
   "outputs": [],
   "source": [
    "# Caching the RDD for test\n",
    "testData\n",
    "#Renaming features for modeling\n",
    "test = testData.selectExpr(\"lemmatized_text as text\", \"Target as label\")\n",
    "test = test.withColumn(\"label\", test[\"label\"].cast(DoubleType()))"
   ]
  },
  {
   "cell_type": "code",
   "execution_count": 142,
   "metadata": {},
   "outputs": [],
   "source": [
    "tokenizer = Tokenizer(inputCol=\"text\", outputCol=\"words\")\n",
    "hashingTF = HashingTF(inputCol=tokenizer.getOutputCol(), outputCol=\"hashing\")\n",
    "idf = IDF(inputCol=hashingTF.getOutputCol(), outputCol=\"features\")"
   ]
  },
  {
   "cell_type": "code",
   "execution_count": 143,
   "metadata": {},
   "outputs": [],
   "source": [
    "lr = LogisticRegression(maxIter=10, regParam=0.01)\n",
    "pipeline = Pipeline(stages=[tokenizer, hashingTF, idf, lr])\n",
    "# Training the model\n",
    "\n",
    "model = pipeline.fit(training)"
   ]
  },
  {
   "cell_type": "code",
   "execution_count": 144,
   "metadata": {},
   "outputs": [],
   "source": [
    "prediction_test = model.transform(test)\n",
    "prediction_train = model.transform(training)"
   ]
  },
  {
   "cell_type": "code",
   "execution_count": 52,
   "metadata": {},
   "outputs": [
    {
     "name": "stdout",
     "output_type": "stream",
     "text": [
      "+-----+----------+\n",
      "|label|prediction|\n",
      "+-----+----------+\n",
      "|1.0  |1.0       |\n",
      "|1.0  |1.0       |\n",
      "|0.0  |0.0       |\n",
      "|1.0  |1.0       |\n",
      "|0.0  |0.0       |\n",
      "|1.0  |1.0       |\n",
      "|1.0  |1.0       |\n",
      "|1.0  |1.0       |\n",
      "|1.0  |1.0       |\n",
      "|1.0  |1.0       |\n",
      "+-----+----------+\n",
      "only showing top 10 rows\n",
      "\n"
     ]
    }
   ],
   "source": [
    "prediction_test.select(\"label\", \"prediction\").show(10,False)"
   ]
  },
  {
   "cell_type": "code",
   "execution_count": 101,
   "metadata": {},
   "outputs": [
    {
     "name": "stdout",
     "output_type": "stream",
     "text": [
      "root\n",
      " |-- text: string (nullable = true)\n",
      " |-- label: double (nullable = true)\n",
      " |-- words: array (nullable = true)\n",
      " |    |-- element: string (containsNull = true)\n",
      " |-- hashing: vector (nullable = true)\n",
      " |-- features: vector (nullable = true)\n",
      " |-- rawPrediction: vector (nullable = true)\n",
      " |-- probability: vector (nullable = true)\n",
      " |-- prediction: double (nullable = false)\n",
      "\n"
     ]
    }
   ],
   "source": [
    "prediction_test.printSchema()"
   ]
  },
  {
   "cell_type": "code",
   "execution_count": 102,
   "metadata": {},
   "outputs": [
    {
     "name": "stdout",
     "output_type": "stream",
     "text": [
      "+--------------------+-----+--------------------+--------------------+--------------------+--------------------+--------------------+----------+\n",
      "|                text|label|               words|             hashing|            features|       rawPrediction|         probability|prediction|\n",
      "+--------------------+-----+--------------------+--------------------+--------------------+--------------------+--------------------+----------+\n",
      "|exactly need perf...|  1.0|[exactly, need, p...|(262144,[83161,10...|(262144,[83161,10...|[-3.4527022427857...|[0.03068837480501...|       1.0|\n",
      "|  tiny open two star|  0.0|[tiny, open, two,...|(262144,[15664,54...|(262144,[15664,54...|[1.98627402428963...|[0.87934838929694...|       0.0|\n",
      "|     okay three star|  1.0| [okay, three, star]|(262144,[153032,2...|(262144,[153032,2...|[-3.4414869134741...|[0.03102375445273...|       1.0|\n",
      "|exactly want five...|  1.0|[exactly, want, f...|(262144,[12710,10...|(262144,[12710,10...|[-3.8790041489733...|[0.02025274790586...|       1.0|\n",
      "|use last el cheap...|  1.0|[use, last, el, c...|(262144,[5381,661...|(262144,[5381,661...|[6.02072458306265...|[0.99757797073318...|       0.0|\n",
      "|love look thank p...|  1.0|[love, look, than...|(262144,[132458,1...|(262144,[132458,1...|[-3.4959581708561...|[0.02942745205721...|       1.0|\n",
      "|smaller expect zi...|  1.0|[smaller, expect,...|(262144,[30006,47...|(262144,[30006,47...|[-2.9977462884187...|[0.04752779225022...|       1.0|\n",
      "|      love five star|  1.0|  [love, five, star]|(262144,[12710,18...|(262144,[12710,18...|[-3.7056975591716...|[0.02399323600592...|       1.0|\n",
      "|      love four star|  1.0|  [love, four, star]|(262144,[93307,18...|(262144,[93307,18...|[-3.7785924713401...|[0.02234416536392...|       1.0|\n",
      "|love think six se...|  1.0|[love, think, six...|(262144,[1506,521...|(262144,[1506,521...|[-4.5851591385060...|[0.01009909387813...|       1.0|\n",
      "+--------------------+-----+--------------------+--------------------+--------------------+--------------------+--------------------+----------+\n",
      "only showing top 10 rows\n",
      "\n"
     ]
    }
   ],
   "source": [
    "prediction_test.show(10)"
   ]
  },
  {
   "cell_type": "code",
   "execution_count": 53,
   "metadata": {},
   "outputs": [
    {
     "data": {
      "text/plain": [
       "0.9281313196554639"
      ]
     },
     "execution_count": 53,
     "metadata": {},
     "output_type": "execute_result"
    }
   ],
   "source": [
    "evaluator = MulticlassClassificationEvaluator(predictionCol=\"prediction\")\n",
    "evaluator.evaluate(prediction_test)"
   ]
  },
  {
   "cell_type": "code",
   "execution_count": null,
   "metadata": {},
   "outputs": [],
   "source": [
    "evaluator = MulticlassClassificationEvaluator(predictionCol = \"prediction\")\n",
    "evaluator.evaluate(prediction_test)"
   ]
  },
  {
   "cell_type": "code",
   "execution_count": 54,
   "metadata": {},
   "outputs": [
    {
     "data": {
      "text/plain": [
       "0.9296909479783177"
      ]
     },
     "execution_count": 54,
     "metadata": {},
     "output_type": "execute_result"
    }
   ],
   "source": [
    "lrevaluator = MulticlassClassificationEvaluator(labelCol = 'label',predictionCol = 'prediction', metricName = 'accuracy')\n",
    "lrevaluator.evaluate(prediction_test)"
   ]
  },
  {
   "cell_type": "code",
   "execution_count": 55,
   "metadata": {},
   "outputs": [
    {
     "data": {
      "text/plain": [
       "0.9281313196554639"
      ]
     },
     "execution_count": 55,
     "metadata": {},
     "output_type": "execute_result"
    }
   ],
   "source": [
    "lrevaluator = MulticlassClassificationEvaluator(labelCol = 'label',predictionCol = 'prediction', metricName = 'f1')\n",
    "lrevaluator.evaluate(prediction_test)"
   ]
  },
  {
   "cell_type": "code",
   "execution_count": 64,
   "metadata": {},
   "outputs": [
    {
     "name": "stdout",
     "output_type": "stream",
     "text": [
      "ROC-Accuracy of model at predicting sentiment is: 0.9581\n"
     ]
    }
   ],
   "source": [
    "evaluator = BinaryClassificationEvaluator()\n",
    "roc_accuracy=evaluator.evaluate(prediction_test)\n",
    "print('ROC-Accuracy of model at predicting sentiment is: {:.4f}'.format(roc_accuracy))"
   ]
  },
  {
   "cell_type": "code",
   "execution_count": 56,
   "metadata": {},
   "outputs": [],
   "source": [
    "y_true = prediction_test.select(['label']).collect()\n",
    "y_pred = prediction_test.select(['prediction']).collect()"
   ]
  },
  {
   "cell_type": "code",
   "execution_count": 145,
   "metadata": {},
   "outputs": [],
   "source": [
    "y_true = prediction_train.select(['label']).collect()\n",
    "y_pred = prediction_train.select(['prediction']).collect()"
   ]
  },
  {
   "cell_type": "code",
   "execution_count": 146,
   "metadata": {},
   "outputs": [
    {
     "name": "stdout",
     "output_type": "stream",
     "text": [
      "              precision    recall  f1-score   support\n",
      "\n",
      "         0.0       0.90      0.81      0.85    120490\n",
      "         1.0       0.96      0.98      0.97    497300\n",
      "\n",
      "    accuracy                           0.95    617790\n",
      "   macro avg       0.93      0.90      0.91    617790\n",
      "weighted avg       0.95      0.95      0.95    617790\n",
      "\n"
     ]
    }
   ],
   "source": [
    "print(classification_report(y_true, y_pred))"
   ]
  },
  {
   "cell_type": "code",
   "execution_count": 147,
   "metadata": {},
   "outputs": [
    {
     "name": "stdout",
     "output_type": "stream",
     "text": [
      "[[ 97729  22761]\n",
      " [ 10422 486878]]\n"
     ]
    }
   ],
   "source": [
    "print(confusion_matrix(y_true, y_pred))"
   ]
  },
  {
   "cell_type": "code",
   "execution_count": 57,
   "metadata": {},
   "outputs": [
    {
     "name": "stdout",
     "output_type": "stream",
     "text": [
      "              precision    recall  f1-score   support\n",
      "\n",
      "         0.0       0.86      0.76      0.81     51356\n",
      "         1.0       0.94      0.97      0.96    213745\n",
      "\n",
      "    accuracy                           0.93    265101\n",
      "   macro avg       0.90      0.87      0.88    265101\n",
      "weighted avg       0.93      0.93      0.93    265101\n",
      "\n"
     ]
    }
   ],
   "source": [
    "print(classification_report(y_true, y_pred))"
   ]
  },
  {
   "cell_type": "code",
   "execution_count": 58,
   "metadata": {},
   "outputs": [
    {
     "name": "stdout",
     "output_type": "stream",
     "text": [
      "[[ 39258  12098]\n",
      " [  6541 207204]]\n"
     ]
    }
   ],
   "source": [
    "print(confusion_matrix(y_true, y_pred))"
   ]
  },
  {
   "cell_type": "code",
   "execution_count": null,
   "metadata": {},
   "outputs": [],
   "source": [
    "print(confusion_matrix(y_true, y_pred))"
   ]
  },
  {
   "cell_type": "code",
   "execution_count": 59,
   "metadata": {},
   "outputs": [],
   "source": [
    "nb = NaiveBayes(smoothing=1.0, modelType=\"multinomial\")\n",
    "pipeline_nb = Pipeline(stages=[tokenizer, hashingTF, idf, nb])\n",
    "# Training the model\n",
    "model_nb = pipeline_nb.fit(training)"
   ]
  },
  {
   "cell_type": "code",
   "execution_count": 60,
   "metadata": {},
   "outputs": [],
   "source": [
    "prediction_test_nb = model_nb.transform(test)\n",
    "prediction_train_nb = model_nb.transform(training)"
   ]
  },
  {
   "cell_type": "code",
   "execution_count": 45,
   "metadata": {},
   "outputs": [
    {
     "name": "stdout",
     "output_type": "stream",
     "text": [
      "+-----+----------+\n",
      "|label|prediction|\n",
      "+-----+----------+\n",
      "|1.0  |1.0       |\n",
      "|0.0  |0.0       |\n",
      "|1.0  |1.0       |\n",
      "|1.0  |1.0       |\n",
      "|1.0  |1.0       |\n",
      "|0.0  |0.0       |\n",
      "|1.0  |1.0       |\n",
      "|0.0  |0.0       |\n",
      "|1.0  |1.0       |\n",
      "|1.0  |1.0       |\n",
      "+-----+----------+\n",
      "only showing top 10 rows\n",
      "\n"
     ]
    }
   ],
   "source": [
    "prediction_test_nb.select(\"label\", \"prediction\").show(10,False)"
   ]
  },
  {
   "cell_type": "code",
   "execution_count": 107,
   "metadata": {},
   "outputs": [
    {
     "name": "stdout",
     "output_type": "stream",
     "text": [
      "root\n",
      " |-- text: string (nullable = true)\n",
      " |-- label: double (nullable = true)\n",
      " |-- words: array (nullable = true)\n",
      " |    |-- element: string (containsNull = true)\n",
      " |-- hashing: vector (nullable = true)\n",
      " |-- features: vector (nullable = true)\n",
      " |-- rawPrediction: vector (nullable = true)\n",
      " |-- probability: vector (nullable = true)\n",
      " |-- prediction: double (nullable = false)\n",
      "\n"
     ]
    }
   ],
   "source": [
    "prediction_test_nb.printSchema()"
   ]
  },
  {
   "cell_type": "code",
   "execution_count": 108,
   "metadata": {},
   "outputs": [
    {
     "name": "stdout",
     "output_type": "stream",
     "text": [
      "+--------------------+-----+--------------------+--------------------+--------------------+--------------------+--------------------+----------+\n",
      "|                text|label|               words|             hashing|            features|       rawPrediction|         probability|prediction|\n",
      "+--------------------+-----+--------------------+--------------------+--------------------+--------------------+--------------------+----------+\n",
      "|exactly need perf...|  1.0|[exactly, need, p...|(262144,[83161,10...|(262144,[83161,10...|[-119.65259871620...|[4.58635212804514...|       1.0|\n",
      "|  tiny open two star|  0.0|[tiny, open, two,...|(262144,[15664,54...|(262144,[15664,54...|[-86.245482167961...|[0.99998280610039...|       0.0|\n",
      "|     okay three star|  1.0| [okay, three, star]|(262144,[153032,2...|(262144,[153032,2...|[-68.409669846821...|[3.53462943337313...|       1.0|\n",
      "|exactly want five...|  1.0|[exactly, want, f...|(262144,[12710,10...|(262144,[12710,10...|[-73.121171634730...|[1.34810515877156...|       1.0|\n",
      "|use last el cheap...|  1.0|[use, last, el, c...|(262144,[5381,661...|(262144,[5381,661...|[-3523.4260334354...|[1.0,6.5971682530...|       0.0|\n",
      "|love look thank p...|  1.0|[love, look, than...|(262144,[132458,1...|(262144,[132458,1...|[-88.904250165382...|[1.10781174717258...|       1.0|\n",
      "|smaller expect zi...|  1.0|[smaller, expect,...|(262144,[30006,47...|(262144,[30006,47...|[-203.28227277889...|[3.18012226280627...|       1.0|\n",
      "|      love five star|  1.0|  [love, five, star]|(262144,[12710,18...|(262144,[12710,18...|[-33.018971225518...|[5.43355777966338...|       1.0|\n",
      "|      love four star|  1.0|  [love, four, star]|(262144,[93307,18...|(262144,[93307,18...|[-44.012980838016...|[5.76276840277520...|       1.0|\n",
      "|love think six se...|  1.0|[love, think, six...|(262144,[1506,521...|(262144,[1506,521...|[-790.09641773930...|[3.74442184568956...|       1.0|\n",
      "+--------------------+-----+--------------------+--------------------+--------------------+--------------------+--------------------+----------+\n",
      "only showing top 10 rows\n",
      "\n"
     ]
    }
   ],
   "source": [
    "prediction_test_nb.show(10)"
   ]
  },
  {
   "cell_type": "code",
   "execution_count": 53,
   "metadata": {},
   "outputs": [
    {
     "data": {
      "text/plain": [
       "0.8985353554182467"
      ]
     },
     "execution_count": 53,
     "metadata": {},
     "output_type": "execute_result"
    }
   ],
   "source": [
    "evaluator_nb = MulticlassClassificationEvaluator(predictionCol=\"prediction\")\n",
    "evaluator_nb.evaluate(prediction_nb)"
   ]
  },
  {
   "cell_type": "code",
   "execution_count": 46,
   "metadata": {},
   "outputs": [
    {
     "data": {
      "text/plain": [
       "0.8941546752408663"
      ]
     },
     "execution_count": 46,
     "metadata": {},
     "output_type": "execute_result"
    }
   ],
   "source": [
    "nbrevaluator = MulticlassClassificationEvaluator(labelCol = 'label',predictionCol = 'prediction', metricName = 'accuracy')\n",
    "nbrevaluator.evaluate(prediction_test_nb)"
   ]
  },
  {
   "cell_type": "code",
   "execution_count": 47,
   "metadata": {},
   "outputs": [
    {
     "data": {
      "text/plain": [
       "0.8980614410291603"
      ]
     },
     "execution_count": 47,
     "metadata": {},
     "output_type": "execute_result"
    }
   ],
   "source": [
    "nbrevaluator = MulticlassClassificationEvaluator(labelCol = 'label',predictionCol = 'prediction', metricName = 'f1')\n",
    "nbrevaluator.evaluate(prediction_test_nb)"
   ]
  },
  {
   "cell_type": "code",
   "execution_count": 50,
   "metadata": {},
   "outputs": [
    {
     "name": "stdout",
     "output_type": "stream",
     "text": [
      "ROC-Accuracy of model at predicting sentiment is: 0.8981\n"
     ]
    }
   ],
   "source": [
    "evaluator = BinaryClassificationEvaluator()\n",
    "roc_accuracy=nbrevaluator.evaluate(prediction_test_nb)\n",
    "print('ROC-Accuracy of model at predicting sentiment is: {:.4f}'.format(roc_accuracy))"
   ]
  },
  {
   "cell_type": "code",
   "execution_count": 61,
   "metadata": {},
   "outputs": [],
   "source": [
    "y_true_nb = prediction_test_nb.select(['label']).collect()\n",
    "y_pred_nb = prediction_test_nb.select(['prediction']).collect()"
   ]
  },
  {
   "cell_type": "code",
   "execution_count": 52,
   "metadata": {},
   "outputs": [
    {
     "name": "stdout",
     "output_type": "stream",
     "text": [
      "              precision    recall  f1-score   support\n",
      "\n",
      "         0.0       0.73      0.87      0.79    119854\n",
      "         1.0       0.97      0.92      0.94    497065\n",
      "\n",
      "    accuracy                           0.91    616919\n",
      "   macro avg       0.85      0.90      0.87    616919\n",
      "weighted avg       0.92      0.91      0.92    616919\n",
      "\n"
     ]
    }
   ],
   "source": [
    "print(classification_report(y_true_nb, y_pred_nb))"
   ]
  },
  {
   "cell_type": "code",
   "execution_count": 53,
   "metadata": {},
   "outputs": [
    {
     "name": "stdout",
     "output_type": "stream",
     "text": [
      "[[104517  15337]\n",
      " [ 38644 458421]]\n"
     ]
    }
   ],
   "source": [
    "print(confusion_matrix(y_true_nb, y_pred_nb))"
   ]
  },
  {
   "cell_type": "code",
   "execution_count": 62,
   "metadata": {},
   "outputs": [
    {
     "name": "stdout",
     "output_type": "stream",
     "text": [
      "              precision    recall  f1-score   support\n",
      "\n",
      "         0.0       0.68      0.84      0.75     51356\n",
      "         1.0       0.96      0.91      0.93    213745\n",
      "\n",
      "    accuracy                           0.89    265101\n",
      "   macro avg       0.82      0.87      0.84    265101\n",
      "weighted avg       0.91      0.89      0.90    265101\n",
      "\n"
     ]
    }
   ],
   "source": [
    "print(classification_report(y_true_nb, y_pred_nb))"
   ]
  },
  {
   "cell_type": "code",
   "execution_count": 63,
   "metadata": {},
   "outputs": [
    {
     "name": "stdout",
     "output_type": "stream",
     "text": [
      "[[ 43306   8050]\n",
      " [ 20193 193552]]\n"
     ]
    }
   ],
   "source": [
    "print(confusion_matrix(y_true_nb, y_pred_nb))"
   ]
  },
  {
   "cell_type": "code",
   "execution_count": 54,
   "metadata": {},
   "outputs": [
    {
     "name": "stdout",
     "output_type": "stream",
     "text": [
      "Accuracy of  Naive Bayes model at predicting sentiment is: 0.8942\n"
     ]
    }
   ],
   "source": [
    "numberOfTestRecord = test.agg({'label':'count'}).collect()[0]['count(label)']\n",
    "accuracynb = prediction_test_nb.filter(prediction_test_nb['label'] == prediction_test_nb['prediction']).count()/numberOfTestRecord\n",
    "print('Accuracy of  Naive Bayes model at predicting sentiment is: {:.4f}'.format(accuracynb))"
   ]
  },
  {
   "cell_type": "code",
   "execution_count": null,
   "metadata": {},
   "outputs": [],
   "source": []
  },
  {
   "cell_type": "code",
   "execution_count": 148,
   "metadata": {},
   "outputs": [
    {
     "ename": "Py4JJavaError",
     "evalue": "An error occurred while calling o1943.fit.\n: org.apache.spark.SparkException: Job aborted due to stage failure: Task 34 in stage 83.0 failed 1 times, most recent failure: Lost task 34.0 in stage 83.0 (TID 1374, localhost, executor driver): java.lang.OutOfMemoryError: GC overhead limit exceeded\n\tat org.apache.spark.ml.tree.impl.RandomForest$$anonfun$35$$anonfun$apply$19.apply(RandomForest.scala:920)\n\tat org.apache.spark.ml.tree.impl.RandomForest$$anonfun$35$$anonfun$apply$19.apply(RandomForest.scala:920)\n\tat scala.collection.TraversableLike$$anonfun$map$1.apply(TraversableLike.scala:234)\n\tat scala.collection.TraversableLike$$anonfun$map$1.apply(TraversableLike.scala:234)\n\tat scala.collection.Iterator$class.foreach(Iterator.scala:891)\n\tat scala.collection.AbstractIterator.foreach(Iterator.scala:1334)\n\tat scala.collection.IterableLike$class.foreach(IterableLike.scala:72)\n\tat scala.collection.AbstractIterable.foreach(Iterable.scala:54)\n\tat scala.collection.TraversableLike$class.map(TraversableLike.scala:234)\n\tat scala.collection.AbstractTraversable.map(Traversable.scala:104)\n\tat org.apache.spark.ml.tree.impl.RandomForest$$anonfun$35.apply(RandomForest.scala:920)\n\tat org.apache.spark.ml.tree.impl.RandomForest$$anonfun$35.apply(RandomForest.scala:919)\n\tat scala.collection.Iterator$$anon$12.nextCur(Iterator.scala:435)\n\tat scala.collection.Iterator$$anon$12.hasNext(Iterator.scala:441)\n\tat org.apache.spark.shuffle.sort.BypassMergeSortShuffleWriter.write(BypassMergeSortShuffleWriter.java:125)\n\tat org.apache.spark.scheduler.ShuffleMapTask.runTask(ShuffleMapTask.scala:99)\n\tat org.apache.spark.scheduler.ShuffleMapTask.runTask(ShuffleMapTask.scala:55)\n\tat org.apache.spark.scheduler.Task.run(Task.scala:123)\n\tat org.apache.spark.executor.Executor$TaskRunner$$anonfun$10.apply(Executor.scala:408)\n\tat org.apache.spark.util.Utils$.tryWithSafeFinally(Utils.scala:1360)\n\tat org.apache.spark.executor.Executor$TaskRunner.run(Executor.scala:414)\n\tat java.util.concurrent.ThreadPoolExecutor.runWorker(ThreadPoolExecutor.java:1149)\n\tat java.util.concurrent.ThreadPoolExecutor$Worker.run(ThreadPoolExecutor.java:624)\n\tat java.lang.Thread.run(Thread.java:748)\n\nDriver stacktrace:\n\tat org.apache.spark.scheduler.DAGScheduler.org$apache$spark$scheduler$DAGScheduler$$failJobAndIndependentStages(DAGScheduler.scala:1891)\n\tat org.apache.spark.scheduler.DAGScheduler$$anonfun$abortStage$1.apply(DAGScheduler.scala:1879)\n\tat org.apache.spark.scheduler.DAGScheduler$$anonfun$abortStage$1.apply(DAGScheduler.scala:1878)\n\tat scala.collection.mutable.ResizableArray$class.foreach(ResizableArray.scala:59)\n\tat scala.collection.mutable.ArrayBuffer.foreach(ArrayBuffer.scala:48)\n\tat org.apache.spark.scheduler.DAGScheduler.abortStage(DAGScheduler.scala:1878)\n\tat org.apache.spark.scheduler.DAGScheduler$$anonfun$handleTaskSetFailed$1.apply(DAGScheduler.scala:927)\n\tat org.apache.spark.scheduler.DAGScheduler$$anonfun$handleTaskSetFailed$1.apply(DAGScheduler.scala:927)\n\tat scala.Option.foreach(Option.scala:257)\n\tat org.apache.spark.scheduler.DAGScheduler.handleTaskSetFailed(DAGScheduler.scala:927)\n\tat org.apache.spark.scheduler.DAGSchedulerEventProcessLoop.doOnReceive(DAGScheduler.scala:2112)\n\tat org.apache.spark.scheduler.DAGSchedulerEventProcessLoop.onReceive(DAGScheduler.scala:2061)\n\tat org.apache.spark.scheduler.DAGSchedulerEventProcessLoop.onReceive(DAGScheduler.scala:2050)\n\tat org.apache.spark.util.EventLoop$$anon$1.run(EventLoop.scala:49)\n\tat org.apache.spark.scheduler.DAGScheduler.runJob(DAGScheduler.scala:738)\n\tat org.apache.spark.SparkContext.runJob(SparkContext.scala:2061)\n\tat org.apache.spark.SparkContext.runJob(SparkContext.scala:2082)\n\tat org.apache.spark.SparkContext.runJob(SparkContext.scala:2101)\n\tat org.apache.spark.SparkContext.runJob(SparkContext.scala:2126)\n\tat org.apache.spark.rdd.RDD$$anonfun$collect$1.apply(RDD.scala:990)\n\tat org.apache.spark.rdd.RDDOperationScope$.withScope(RDDOperationScope.scala:151)\n\tat org.apache.spark.rdd.RDDOperationScope$.withScope(RDDOperationScope.scala:112)\n\tat org.apache.spark.rdd.RDD.withScope(RDD.scala:385)\n\tat org.apache.spark.rdd.RDD.collect(RDD.scala:989)\n\tat org.apache.spark.rdd.PairRDDFunctions$$anonfun$collectAsMap$1.apply(PairRDDFunctions.scala:743)\n\tat org.apache.spark.rdd.PairRDDFunctions$$anonfun$collectAsMap$1.apply(PairRDDFunctions.scala:742)\n\tat org.apache.spark.rdd.RDDOperationScope$.withScope(RDDOperationScope.scala:151)\n\tat org.apache.spark.rdd.RDDOperationScope$.withScope(RDDOperationScope.scala:112)\n\tat org.apache.spark.rdd.RDD.withScope(RDD.scala:385)\n\tat org.apache.spark.rdd.PairRDDFunctions.collectAsMap(PairRDDFunctions.scala:742)\n\tat org.apache.spark.ml.tree.impl.RandomForest$.findSplitsBySorting(RandomForest.scala:927)\n\tat org.apache.spark.ml.tree.impl.RandomForest$.findSplits(RandomForest.scala:904)\n\tat org.apache.spark.ml.tree.impl.RandomForest$.run(RandomForest.scala:121)\n\tat org.apache.spark.ml.classification.RandomForestClassifier$$anonfun$train$1.apply(RandomForestClassifier.scala:142)\n\tat org.apache.spark.ml.classification.RandomForestClassifier$$anonfun$train$1.apply(RandomForestClassifier.scala:120)\n\tat org.apache.spark.ml.util.Instrumentation$$anonfun$11.apply(Instrumentation.scala:185)\n\tat scala.util.Try$.apply(Try.scala:192)\n\tat org.apache.spark.ml.util.Instrumentation$.instrumented(Instrumentation.scala:185)\n\tat org.apache.spark.ml.classification.RandomForestClassifier.train(RandomForestClassifier.scala:120)\n\tat org.apache.spark.ml.classification.RandomForestClassifier.train(RandomForestClassifier.scala:46)\n\tat org.apache.spark.ml.Predictor.fit(Predictor.scala:118)\n\tat sun.reflect.NativeMethodAccessorImpl.invoke0(Native Method)\n\tat sun.reflect.NativeMethodAccessorImpl.invoke(NativeMethodAccessorImpl.java:62)\n\tat sun.reflect.DelegatingMethodAccessorImpl.invoke(DelegatingMethodAccessorImpl.java:43)\n\tat java.lang.reflect.Method.invoke(Method.java:498)\n\tat py4j.reflection.MethodInvoker.invoke(MethodInvoker.java:244)\n\tat py4j.reflection.ReflectionEngine.invoke(ReflectionEngine.java:357)\n\tat py4j.Gateway.invoke(Gateway.java:282)\n\tat py4j.commands.AbstractCommand.invokeMethod(AbstractCommand.java:132)\n\tat py4j.commands.CallCommand.execute(CallCommand.java:79)\n\tat py4j.GatewayConnection.run(GatewayConnection.java:238)\n\tat java.lang.Thread.run(Thread.java:748)\nCaused by: java.lang.OutOfMemoryError: GC overhead limit exceeded\n\tat org.apache.spark.ml.tree.impl.RandomForest$$anonfun$35$$anonfun$apply$19.apply(RandomForest.scala:920)\n\tat org.apache.spark.ml.tree.impl.RandomForest$$anonfun$35$$anonfun$apply$19.apply(RandomForest.scala:920)\n\tat scala.collection.TraversableLike$$anonfun$map$1.apply(TraversableLike.scala:234)\n\tat scala.collection.TraversableLike$$anonfun$map$1.apply(TraversableLike.scala:234)\n\tat scala.collection.Iterator$class.foreach(Iterator.scala:891)\n\tat scala.collection.AbstractIterator.foreach(Iterator.scala:1334)\n\tat scala.collection.IterableLike$class.foreach(IterableLike.scala:72)\n\tat scala.collection.AbstractIterable.foreach(Iterable.scala:54)\n\tat scala.collection.TraversableLike$class.map(TraversableLike.scala:234)\n\tat scala.collection.AbstractTraversable.map(Traversable.scala:104)\n\tat org.apache.spark.ml.tree.impl.RandomForest$$anonfun$35.apply(RandomForest.scala:920)\n\tat org.apache.spark.ml.tree.impl.RandomForest$$anonfun$35.apply(RandomForest.scala:919)\n\tat scala.collection.Iterator$$anon$12.nextCur(Iterator.scala:435)\n\tat scala.collection.Iterator$$anon$12.hasNext(Iterator.scala:441)\n\tat org.apache.spark.shuffle.sort.BypassMergeSortShuffleWriter.write(BypassMergeSortShuffleWriter.java:125)\n\tat org.apache.spark.scheduler.ShuffleMapTask.runTask(ShuffleMapTask.scala:99)\n\tat org.apache.spark.scheduler.ShuffleMapTask.runTask(ShuffleMapTask.scala:55)\n\tat org.apache.spark.scheduler.Task.run(Task.scala:123)\n\tat org.apache.spark.executor.Executor$TaskRunner$$anonfun$10.apply(Executor.scala:408)\n\tat org.apache.spark.util.Utils$.tryWithSafeFinally(Utils.scala:1360)\n\tat org.apache.spark.executor.Executor$TaskRunner.run(Executor.scala:414)\n\tat java.util.concurrent.ThreadPoolExecutor.runWorker(ThreadPoolExecutor.java:1149)\n\tat java.util.concurrent.ThreadPoolExecutor$Worker.run(ThreadPoolExecutor.java:624)\n\t... 1 more\n",
     "output_type": "error",
     "traceback": [
      "\u001b[0;31m---------------------------------------------------------------------------\u001b[0m",
      "\u001b[0;31mPy4JJavaError\u001b[0m                             Traceback (most recent call last)",
      "\u001b[0;32m<ipython-input-148-9232642dfa36>\u001b[0m in \u001b[0;36m<module>\u001b[0;34m()\u001b[0m\n\u001b[1;32m      3\u001b[0m \u001b[0mpipeline_rf\u001b[0m \u001b[0;34m=\u001b[0m \u001b[0mPipeline\u001b[0m\u001b[0;34m(\u001b[0m\u001b[0mstages\u001b[0m\u001b[0;34m=\u001b[0m\u001b[0;34m[\u001b[0m\u001b[0mtokenizer\u001b[0m\u001b[0;34m,\u001b[0m \u001b[0mhashingTF\u001b[0m\u001b[0;34m,\u001b[0m \u001b[0midf\u001b[0m\u001b[0;34m,\u001b[0m \u001b[0mrf\u001b[0m\u001b[0;34m]\u001b[0m\u001b[0;34m)\u001b[0m\u001b[0;34m\u001b[0m\u001b[0m\n\u001b[1;32m      4\u001b[0m \u001b[0;31m# Train model with Training Data\u001b[0m\u001b[0;34m\u001b[0m\u001b[0;34m\u001b[0m\u001b[0m\n\u001b[0;32m----> 5\u001b[0;31m \u001b[0mrfModel\u001b[0m \u001b[0;34m=\u001b[0m \u001b[0mpipeline_rf\u001b[0m\u001b[0;34m.\u001b[0m\u001b[0mfit\u001b[0m\u001b[0;34m(\u001b[0m\u001b[0mtraining\u001b[0m\u001b[0;34m)\u001b[0m\u001b[0;34m\u001b[0m\u001b[0m\n\u001b[0m",
      "\u001b[0;32m~/.conda/envs/myenv/lib/python3.5/site-packages/pyspark/ml/base.py\u001b[0m in \u001b[0;36mfit\u001b[0;34m(self, dataset, params)\u001b[0m\n\u001b[1;32m    130\u001b[0m                 \u001b[0;32mreturn\u001b[0m \u001b[0mself\u001b[0m\u001b[0;34m.\u001b[0m\u001b[0mcopy\u001b[0m\u001b[0;34m(\u001b[0m\u001b[0mparams\u001b[0m\u001b[0;34m)\u001b[0m\u001b[0;34m.\u001b[0m\u001b[0m_fit\u001b[0m\u001b[0;34m(\u001b[0m\u001b[0mdataset\u001b[0m\u001b[0;34m)\u001b[0m\u001b[0;34m\u001b[0m\u001b[0m\n\u001b[1;32m    131\u001b[0m             \u001b[0;32melse\u001b[0m\u001b[0;34m:\u001b[0m\u001b[0;34m\u001b[0m\u001b[0m\n\u001b[0;32m--> 132\u001b[0;31m                 \u001b[0;32mreturn\u001b[0m \u001b[0mself\u001b[0m\u001b[0;34m.\u001b[0m\u001b[0m_fit\u001b[0m\u001b[0;34m(\u001b[0m\u001b[0mdataset\u001b[0m\u001b[0;34m)\u001b[0m\u001b[0;34m\u001b[0m\u001b[0m\n\u001b[0m\u001b[1;32m    133\u001b[0m         \u001b[0;32melse\u001b[0m\u001b[0;34m:\u001b[0m\u001b[0;34m\u001b[0m\u001b[0m\n\u001b[1;32m    134\u001b[0m             raise ValueError(\"Params must be either a param map or a list/tuple of param maps, \"\n",
      "\u001b[0;32m~/.conda/envs/myenv/lib/python3.5/site-packages/pyspark/ml/pipeline.py\u001b[0m in \u001b[0;36m_fit\u001b[0;34m(self, dataset)\u001b[0m\n\u001b[1;32m    107\u001b[0m                     \u001b[0mdataset\u001b[0m \u001b[0;34m=\u001b[0m \u001b[0mstage\u001b[0m\u001b[0;34m.\u001b[0m\u001b[0mtransform\u001b[0m\u001b[0;34m(\u001b[0m\u001b[0mdataset\u001b[0m\u001b[0;34m)\u001b[0m\u001b[0;34m\u001b[0m\u001b[0m\n\u001b[1;32m    108\u001b[0m                 \u001b[0;32melse\u001b[0m\u001b[0;34m:\u001b[0m  \u001b[0;31m# must be an Estimator\u001b[0m\u001b[0;34m\u001b[0m\u001b[0m\n\u001b[0;32m--> 109\u001b[0;31m                     \u001b[0mmodel\u001b[0m \u001b[0;34m=\u001b[0m \u001b[0mstage\u001b[0m\u001b[0;34m.\u001b[0m\u001b[0mfit\u001b[0m\u001b[0;34m(\u001b[0m\u001b[0mdataset\u001b[0m\u001b[0;34m)\u001b[0m\u001b[0;34m\u001b[0m\u001b[0m\n\u001b[0m\u001b[1;32m    110\u001b[0m                     \u001b[0mtransformers\u001b[0m\u001b[0;34m.\u001b[0m\u001b[0mappend\u001b[0m\u001b[0;34m(\u001b[0m\u001b[0mmodel\u001b[0m\u001b[0;34m)\u001b[0m\u001b[0;34m\u001b[0m\u001b[0m\n\u001b[1;32m    111\u001b[0m                     \u001b[0;32mif\u001b[0m \u001b[0mi\u001b[0m \u001b[0;34m<\u001b[0m \u001b[0mindexOfLastEstimator\u001b[0m\u001b[0;34m:\u001b[0m\u001b[0;34m\u001b[0m\u001b[0m\n",
      "\u001b[0;32m~/.conda/envs/myenv/lib/python3.5/site-packages/pyspark/ml/base.py\u001b[0m in \u001b[0;36mfit\u001b[0;34m(self, dataset, params)\u001b[0m\n\u001b[1;32m    130\u001b[0m                 \u001b[0;32mreturn\u001b[0m \u001b[0mself\u001b[0m\u001b[0;34m.\u001b[0m\u001b[0mcopy\u001b[0m\u001b[0;34m(\u001b[0m\u001b[0mparams\u001b[0m\u001b[0;34m)\u001b[0m\u001b[0;34m.\u001b[0m\u001b[0m_fit\u001b[0m\u001b[0;34m(\u001b[0m\u001b[0mdataset\u001b[0m\u001b[0;34m)\u001b[0m\u001b[0;34m\u001b[0m\u001b[0m\n\u001b[1;32m    131\u001b[0m             \u001b[0;32melse\u001b[0m\u001b[0;34m:\u001b[0m\u001b[0;34m\u001b[0m\u001b[0m\n\u001b[0;32m--> 132\u001b[0;31m                 \u001b[0;32mreturn\u001b[0m \u001b[0mself\u001b[0m\u001b[0;34m.\u001b[0m\u001b[0m_fit\u001b[0m\u001b[0;34m(\u001b[0m\u001b[0mdataset\u001b[0m\u001b[0;34m)\u001b[0m\u001b[0;34m\u001b[0m\u001b[0m\n\u001b[0m\u001b[1;32m    133\u001b[0m         \u001b[0;32melse\u001b[0m\u001b[0;34m:\u001b[0m\u001b[0;34m\u001b[0m\u001b[0m\n\u001b[1;32m    134\u001b[0m             raise ValueError(\"Params must be either a param map or a list/tuple of param maps, \"\n",
      "\u001b[0;32m~/.conda/envs/myenv/lib/python3.5/site-packages/pyspark/ml/wrapper.py\u001b[0m in \u001b[0;36m_fit\u001b[0;34m(self, dataset)\u001b[0m\n\u001b[1;32m    293\u001b[0m \u001b[0;34m\u001b[0m\u001b[0m\n\u001b[1;32m    294\u001b[0m     \u001b[0;32mdef\u001b[0m \u001b[0m_fit\u001b[0m\u001b[0;34m(\u001b[0m\u001b[0mself\u001b[0m\u001b[0;34m,\u001b[0m \u001b[0mdataset\u001b[0m\u001b[0;34m)\u001b[0m\u001b[0;34m:\u001b[0m\u001b[0;34m\u001b[0m\u001b[0m\n\u001b[0;32m--> 295\u001b[0;31m         \u001b[0mjava_model\u001b[0m \u001b[0;34m=\u001b[0m \u001b[0mself\u001b[0m\u001b[0;34m.\u001b[0m\u001b[0m_fit_java\u001b[0m\u001b[0;34m(\u001b[0m\u001b[0mdataset\u001b[0m\u001b[0;34m)\u001b[0m\u001b[0;34m\u001b[0m\u001b[0m\n\u001b[0m\u001b[1;32m    296\u001b[0m         \u001b[0mmodel\u001b[0m \u001b[0;34m=\u001b[0m \u001b[0mself\u001b[0m\u001b[0;34m.\u001b[0m\u001b[0m_create_model\u001b[0m\u001b[0;34m(\u001b[0m\u001b[0mjava_model\u001b[0m\u001b[0;34m)\u001b[0m\u001b[0;34m\u001b[0m\u001b[0m\n\u001b[1;32m    297\u001b[0m         \u001b[0;32mreturn\u001b[0m \u001b[0mself\u001b[0m\u001b[0;34m.\u001b[0m\u001b[0m_copyValues\u001b[0m\u001b[0;34m(\u001b[0m\u001b[0mmodel\u001b[0m\u001b[0;34m)\u001b[0m\u001b[0;34m\u001b[0m\u001b[0m\n",
      "\u001b[0;32m~/.conda/envs/myenv/lib/python3.5/site-packages/pyspark/ml/wrapper.py\u001b[0m in \u001b[0;36m_fit_java\u001b[0;34m(self, dataset)\u001b[0m\n\u001b[1;32m    290\u001b[0m         \"\"\"\n\u001b[1;32m    291\u001b[0m         \u001b[0mself\u001b[0m\u001b[0;34m.\u001b[0m\u001b[0m_transfer_params_to_java\u001b[0m\u001b[0;34m(\u001b[0m\u001b[0;34m)\u001b[0m\u001b[0;34m\u001b[0m\u001b[0m\n\u001b[0;32m--> 292\u001b[0;31m         \u001b[0;32mreturn\u001b[0m \u001b[0mself\u001b[0m\u001b[0;34m.\u001b[0m\u001b[0m_java_obj\u001b[0m\u001b[0;34m.\u001b[0m\u001b[0mfit\u001b[0m\u001b[0;34m(\u001b[0m\u001b[0mdataset\u001b[0m\u001b[0;34m.\u001b[0m\u001b[0m_jdf\u001b[0m\u001b[0;34m)\u001b[0m\u001b[0;34m\u001b[0m\u001b[0m\n\u001b[0m\u001b[1;32m    293\u001b[0m \u001b[0;34m\u001b[0m\u001b[0m\n\u001b[1;32m    294\u001b[0m     \u001b[0;32mdef\u001b[0m \u001b[0m_fit\u001b[0m\u001b[0;34m(\u001b[0m\u001b[0mself\u001b[0m\u001b[0;34m,\u001b[0m \u001b[0mdataset\u001b[0m\u001b[0;34m)\u001b[0m\u001b[0;34m:\u001b[0m\u001b[0;34m\u001b[0m\u001b[0m\n",
      "\u001b[0;32m~/.conda/envs/myenv/lib/python3.5/site-packages/py4j/java_gateway.py\u001b[0m in \u001b[0;36m__call__\u001b[0;34m(self, *args)\u001b[0m\n\u001b[1;32m   1255\u001b[0m         \u001b[0manswer\u001b[0m \u001b[0;34m=\u001b[0m \u001b[0mself\u001b[0m\u001b[0;34m.\u001b[0m\u001b[0mgateway_client\u001b[0m\u001b[0;34m.\u001b[0m\u001b[0msend_command\u001b[0m\u001b[0;34m(\u001b[0m\u001b[0mcommand\u001b[0m\u001b[0;34m)\u001b[0m\u001b[0;34m\u001b[0m\u001b[0m\n\u001b[1;32m   1256\u001b[0m         return_value = get_return_value(\n\u001b[0;32m-> 1257\u001b[0;31m             answer, self.gateway_client, self.target_id, self.name)\n\u001b[0m\u001b[1;32m   1258\u001b[0m \u001b[0;34m\u001b[0m\u001b[0m\n\u001b[1;32m   1259\u001b[0m         \u001b[0;32mfor\u001b[0m \u001b[0mtemp_arg\u001b[0m \u001b[0;32min\u001b[0m \u001b[0mtemp_args\u001b[0m\u001b[0;34m:\u001b[0m\u001b[0;34m\u001b[0m\u001b[0m\n",
      "\u001b[0;32m~/.conda/envs/myenv/lib/python3.5/site-packages/pyspark/sql/utils.py\u001b[0m in \u001b[0;36mdeco\u001b[0;34m(*a, **kw)\u001b[0m\n\u001b[1;32m     61\u001b[0m     \u001b[0;32mdef\u001b[0m \u001b[0mdeco\u001b[0m\u001b[0;34m(\u001b[0m\u001b[0;34m*\u001b[0m\u001b[0ma\u001b[0m\u001b[0;34m,\u001b[0m \u001b[0;34m**\u001b[0m\u001b[0mkw\u001b[0m\u001b[0;34m)\u001b[0m\u001b[0;34m:\u001b[0m\u001b[0;34m\u001b[0m\u001b[0m\n\u001b[1;32m     62\u001b[0m         \u001b[0;32mtry\u001b[0m\u001b[0;34m:\u001b[0m\u001b[0;34m\u001b[0m\u001b[0m\n\u001b[0;32m---> 63\u001b[0;31m             \u001b[0;32mreturn\u001b[0m \u001b[0mf\u001b[0m\u001b[0;34m(\u001b[0m\u001b[0;34m*\u001b[0m\u001b[0ma\u001b[0m\u001b[0;34m,\u001b[0m \u001b[0;34m**\u001b[0m\u001b[0mkw\u001b[0m\u001b[0;34m)\u001b[0m\u001b[0;34m\u001b[0m\u001b[0m\n\u001b[0m\u001b[1;32m     64\u001b[0m         \u001b[0;32mexcept\u001b[0m \u001b[0mpy4j\u001b[0m\u001b[0;34m.\u001b[0m\u001b[0mprotocol\u001b[0m\u001b[0;34m.\u001b[0m\u001b[0mPy4JJavaError\u001b[0m \u001b[0;32mas\u001b[0m \u001b[0me\u001b[0m\u001b[0;34m:\u001b[0m\u001b[0;34m\u001b[0m\u001b[0m\n\u001b[1;32m     65\u001b[0m             \u001b[0ms\u001b[0m \u001b[0;34m=\u001b[0m \u001b[0me\u001b[0m\u001b[0;34m.\u001b[0m\u001b[0mjava_exception\u001b[0m\u001b[0;34m.\u001b[0m\u001b[0mtoString\u001b[0m\u001b[0;34m(\u001b[0m\u001b[0;34m)\u001b[0m\u001b[0;34m\u001b[0m\u001b[0m\n",
      "\u001b[0;32m~/.conda/envs/myenv/lib/python3.5/site-packages/py4j/protocol.py\u001b[0m in \u001b[0;36mget_return_value\u001b[0;34m(answer, gateway_client, target_id, name)\u001b[0m\n\u001b[1;32m    326\u001b[0m                 raise Py4JJavaError(\n\u001b[1;32m    327\u001b[0m                     \u001b[0;34m\"An error occurred while calling {0}{1}{2}.\\n\"\u001b[0m\u001b[0;34m.\u001b[0m\u001b[0;34m\u001b[0m\u001b[0m\n\u001b[0;32m--> 328\u001b[0;31m                     format(target_id, \".\", name), value)\n\u001b[0m\u001b[1;32m    329\u001b[0m             \u001b[0;32melse\u001b[0m\u001b[0;34m:\u001b[0m\u001b[0;34m\u001b[0m\u001b[0m\n\u001b[1;32m    330\u001b[0m                 raise Py4JError(\n",
      "\u001b[0;31mPy4JJavaError\u001b[0m: An error occurred while calling o1943.fit.\n: org.apache.spark.SparkException: Job aborted due to stage failure: Task 34 in stage 83.0 failed 1 times, most recent failure: Lost task 34.0 in stage 83.0 (TID 1374, localhost, executor driver): java.lang.OutOfMemoryError: GC overhead limit exceeded\n\tat org.apache.spark.ml.tree.impl.RandomForest$$anonfun$35$$anonfun$apply$19.apply(RandomForest.scala:920)\n\tat org.apache.spark.ml.tree.impl.RandomForest$$anonfun$35$$anonfun$apply$19.apply(RandomForest.scala:920)\n\tat scala.collection.TraversableLike$$anonfun$map$1.apply(TraversableLike.scala:234)\n\tat scala.collection.TraversableLike$$anonfun$map$1.apply(TraversableLike.scala:234)\n\tat scala.collection.Iterator$class.foreach(Iterator.scala:891)\n\tat scala.collection.AbstractIterator.foreach(Iterator.scala:1334)\n\tat scala.collection.IterableLike$class.foreach(IterableLike.scala:72)\n\tat scala.collection.AbstractIterable.foreach(Iterable.scala:54)\n\tat scala.collection.TraversableLike$class.map(TraversableLike.scala:234)\n\tat scala.collection.AbstractTraversable.map(Traversable.scala:104)\n\tat org.apache.spark.ml.tree.impl.RandomForest$$anonfun$35.apply(RandomForest.scala:920)\n\tat org.apache.spark.ml.tree.impl.RandomForest$$anonfun$35.apply(RandomForest.scala:919)\n\tat scala.collection.Iterator$$anon$12.nextCur(Iterator.scala:435)\n\tat scala.collection.Iterator$$anon$12.hasNext(Iterator.scala:441)\n\tat org.apache.spark.shuffle.sort.BypassMergeSortShuffleWriter.write(BypassMergeSortShuffleWriter.java:125)\n\tat org.apache.spark.scheduler.ShuffleMapTask.runTask(ShuffleMapTask.scala:99)\n\tat org.apache.spark.scheduler.ShuffleMapTask.runTask(ShuffleMapTask.scala:55)\n\tat org.apache.spark.scheduler.Task.run(Task.scala:123)\n\tat org.apache.spark.executor.Executor$TaskRunner$$anonfun$10.apply(Executor.scala:408)\n\tat org.apache.spark.util.Utils$.tryWithSafeFinally(Utils.scala:1360)\n\tat org.apache.spark.executor.Executor$TaskRunner.run(Executor.scala:414)\n\tat java.util.concurrent.ThreadPoolExecutor.runWorker(ThreadPoolExecutor.java:1149)\n\tat java.util.concurrent.ThreadPoolExecutor$Worker.run(ThreadPoolExecutor.java:624)\n\tat java.lang.Thread.run(Thread.java:748)\n\nDriver stacktrace:\n\tat org.apache.spark.scheduler.DAGScheduler.org$apache$spark$scheduler$DAGScheduler$$failJobAndIndependentStages(DAGScheduler.scala:1891)\n\tat org.apache.spark.scheduler.DAGScheduler$$anonfun$abortStage$1.apply(DAGScheduler.scala:1879)\n\tat org.apache.spark.scheduler.DAGScheduler$$anonfun$abortStage$1.apply(DAGScheduler.scala:1878)\n\tat scala.collection.mutable.ResizableArray$class.foreach(ResizableArray.scala:59)\n\tat scala.collection.mutable.ArrayBuffer.foreach(ArrayBuffer.scala:48)\n\tat org.apache.spark.scheduler.DAGScheduler.abortStage(DAGScheduler.scala:1878)\n\tat org.apache.spark.scheduler.DAGScheduler$$anonfun$handleTaskSetFailed$1.apply(DAGScheduler.scala:927)\n\tat org.apache.spark.scheduler.DAGScheduler$$anonfun$handleTaskSetFailed$1.apply(DAGScheduler.scala:927)\n\tat scala.Option.foreach(Option.scala:257)\n\tat org.apache.spark.scheduler.DAGScheduler.handleTaskSetFailed(DAGScheduler.scala:927)\n\tat org.apache.spark.scheduler.DAGSchedulerEventProcessLoop.doOnReceive(DAGScheduler.scala:2112)\n\tat org.apache.spark.scheduler.DAGSchedulerEventProcessLoop.onReceive(DAGScheduler.scala:2061)\n\tat org.apache.spark.scheduler.DAGSchedulerEventProcessLoop.onReceive(DAGScheduler.scala:2050)\n\tat org.apache.spark.util.EventLoop$$anon$1.run(EventLoop.scala:49)\n\tat org.apache.spark.scheduler.DAGScheduler.runJob(DAGScheduler.scala:738)\n\tat org.apache.spark.SparkContext.runJob(SparkContext.scala:2061)\n\tat org.apache.spark.SparkContext.runJob(SparkContext.scala:2082)\n\tat org.apache.spark.SparkContext.runJob(SparkContext.scala:2101)\n\tat org.apache.spark.SparkContext.runJob(SparkContext.scala:2126)\n\tat org.apache.spark.rdd.RDD$$anonfun$collect$1.apply(RDD.scala:990)\n\tat org.apache.spark.rdd.RDDOperationScope$.withScope(RDDOperationScope.scala:151)\n\tat org.apache.spark.rdd.RDDOperationScope$.withScope(RDDOperationScope.scala:112)\n\tat org.apache.spark.rdd.RDD.withScope(RDD.scala:385)\n\tat org.apache.spark.rdd.RDD.collect(RDD.scala:989)\n\tat org.apache.spark.rdd.PairRDDFunctions$$anonfun$collectAsMap$1.apply(PairRDDFunctions.scala:743)\n\tat org.apache.spark.rdd.PairRDDFunctions$$anonfun$collectAsMap$1.apply(PairRDDFunctions.scala:742)\n\tat org.apache.spark.rdd.RDDOperationScope$.withScope(RDDOperationScope.scala:151)\n\tat org.apache.spark.rdd.RDDOperationScope$.withScope(RDDOperationScope.scala:112)\n\tat org.apache.spark.rdd.RDD.withScope(RDD.scala:385)\n\tat org.apache.spark.rdd.PairRDDFunctions.collectAsMap(PairRDDFunctions.scala:742)\n\tat org.apache.spark.ml.tree.impl.RandomForest$.findSplitsBySorting(RandomForest.scala:927)\n\tat org.apache.spark.ml.tree.impl.RandomForest$.findSplits(RandomForest.scala:904)\n\tat org.apache.spark.ml.tree.impl.RandomForest$.run(RandomForest.scala:121)\n\tat org.apache.spark.ml.classification.RandomForestClassifier$$anonfun$train$1.apply(RandomForestClassifier.scala:142)\n\tat org.apache.spark.ml.classification.RandomForestClassifier$$anonfun$train$1.apply(RandomForestClassifier.scala:120)\n\tat org.apache.spark.ml.util.Instrumentation$$anonfun$11.apply(Instrumentation.scala:185)\n\tat scala.util.Try$.apply(Try.scala:192)\n\tat org.apache.spark.ml.util.Instrumentation$.instrumented(Instrumentation.scala:185)\n\tat org.apache.spark.ml.classification.RandomForestClassifier.train(RandomForestClassifier.scala:120)\n\tat org.apache.spark.ml.classification.RandomForestClassifier.train(RandomForestClassifier.scala:46)\n\tat org.apache.spark.ml.Predictor.fit(Predictor.scala:118)\n\tat sun.reflect.NativeMethodAccessorImpl.invoke0(Native Method)\n\tat sun.reflect.NativeMethodAccessorImpl.invoke(NativeMethodAccessorImpl.java:62)\n\tat sun.reflect.DelegatingMethodAccessorImpl.invoke(DelegatingMethodAccessorImpl.java:43)\n\tat java.lang.reflect.Method.invoke(Method.java:498)\n\tat py4j.reflection.MethodInvoker.invoke(MethodInvoker.java:244)\n\tat py4j.reflection.ReflectionEngine.invoke(ReflectionEngine.java:357)\n\tat py4j.Gateway.invoke(Gateway.java:282)\n\tat py4j.commands.AbstractCommand.invokeMethod(AbstractCommand.java:132)\n\tat py4j.commands.CallCommand.execute(CallCommand.java:79)\n\tat py4j.GatewayConnection.run(GatewayConnection.java:238)\n\tat java.lang.Thread.run(Thread.java:748)\nCaused by: java.lang.OutOfMemoryError: GC overhead limit exceeded\n\tat org.apache.spark.ml.tree.impl.RandomForest$$anonfun$35$$anonfun$apply$19.apply(RandomForest.scala:920)\n\tat org.apache.spark.ml.tree.impl.RandomForest$$anonfun$35$$anonfun$apply$19.apply(RandomForest.scala:920)\n\tat scala.collection.TraversableLike$$anonfun$map$1.apply(TraversableLike.scala:234)\n\tat scala.collection.TraversableLike$$anonfun$map$1.apply(TraversableLike.scala:234)\n\tat scala.collection.Iterator$class.foreach(Iterator.scala:891)\n\tat scala.collection.AbstractIterator.foreach(Iterator.scala:1334)\n\tat scala.collection.IterableLike$class.foreach(IterableLike.scala:72)\n\tat scala.collection.AbstractIterable.foreach(Iterable.scala:54)\n\tat scala.collection.TraversableLike$class.map(TraversableLike.scala:234)\n\tat scala.collection.AbstractTraversable.map(Traversable.scala:104)\n\tat org.apache.spark.ml.tree.impl.RandomForest$$anonfun$35.apply(RandomForest.scala:920)\n\tat org.apache.spark.ml.tree.impl.RandomForest$$anonfun$35.apply(RandomForest.scala:919)\n\tat scala.collection.Iterator$$anon$12.nextCur(Iterator.scala:435)\n\tat scala.collection.Iterator$$anon$12.hasNext(Iterator.scala:441)\n\tat org.apache.spark.shuffle.sort.BypassMergeSortShuffleWriter.write(BypassMergeSortShuffleWriter.java:125)\n\tat org.apache.spark.scheduler.ShuffleMapTask.runTask(ShuffleMapTask.scala:99)\n\tat org.apache.spark.scheduler.ShuffleMapTask.runTask(ShuffleMapTask.scala:55)\n\tat org.apache.spark.scheduler.Task.run(Task.scala:123)\n\tat org.apache.spark.executor.Executor$TaskRunner$$anonfun$10.apply(Executor.scala:408)\n\tat org.apache.spark.util.Utils$.tryWithSafeFinally(Utils.scala:1360)\n\tat org.apache.spark.executor.Executor$TaskRunner.run(Executor.scala:414)\n\tat java.util.concurrent.ThreadPoolExecutor.runWorker(ThreadPoolExecutor.java:1149)\n\tat java.util.concurrent.ThreadPoolExecutor$Worker.run(ThreadPoolExecutor.java:624)\n\t... 1 more\n"
     ]
    },
    {
     "name": "stdout",
     "output_type": "stream",
     "text": [
      "----------------------------------------\n",
      "Exception happened during processing of request from ('127.0.0.1', 58990)\n",
      "----------------------------------------\n"
     ]
    },
    {
     "name": "stderr",
     "output_type": "stream",
     "text": [
      "Traceback (most recent call last):\n",
      "  File \"/ichec/home/users/pawan2592/.conda/envs/myenv/lib/python3.5/socketserver.py\", line 313, in _handle_request_noblock\n",
      "    self.process_request(request, client_address)\n",
      "  File \"/ichec/home/users/pawan2592/.conda/envs/myenv/lib/python3.5/socketserver.py\", line 341, in process_request\n",
      "    self.finish_request(request, client_address)\n",
      "  File \"/ichec/home/users/pawan2592/.conda/envs/myenv/lib/python3.5/socketserver.py\", line 354, in finish_request\n",
      "    self.RequestHandlerClass(request, client_address, self)\n",
      "  File \"/ichec/home/users/pawan2592/.conda/envs/myenv/lib/python3.5/socketserver.py\", line 681, in __init__\n",
      "    self.handle()\n",
      "  File \"/ichec/home/users/pawan2592/.conda/envs/myenv/lib/python3.5/site-packages/pyspark/accumulators.py\", line 269, in handle\n",
      "    poll(accum_updates)\n",
      "  File \"/ichec/home/users/pawan2592/.conda/envs/myenv/lib/python3.5/site-packages/pyspark/accumulators.py\", line 241, in poll\n",
      "    if func():\n",
      "  File \"/ichec/home/users/pawan2592/.conda/envs/myenv/lib/python3.5/site-packages/pyspark/accumulators.py\", line 245, in accum_updates\n",
      "    num_updates = read_int(self.rfile)\n",
      "  File \"/ichec/home/users/pawan2592/.conda/envs/myenv/lib/python3.5/site-packages/pyspark/serializers.py\", line 724, in read_int\n",
      "    raise EOFError\n",
      "EOFError\n"
     ]
    }
   ],
   "source": [
    "from pyspark.ml.classification import RandomForestClassifier\n",
    "rf = RandomForestClassifier(numTrees = 100,maxDepth = 4,maxBins = 32)\n",
    "pipeline_rf = Pipeline(stages=[tokenizer, hashingTF, idf, rf])\n",
    "# Train model with Training Data\n",
    "rfModel = pipeline_rf.fit(training)"
   ]
  },
  {
   "cell_type": "code",
   "execution_count": 93,
   "metadata": {},
   "outputs": [],
   "source": [
    "predictions_train_rf = rfModel.transform(training)\n",
    "predictions_test_rf = rfModel.transform(test)"
   ]
  },
  {
   "cell_type": "code",
   "execution_count": 121,
   "metadata": {},
   "outputs": [
    {
     "data": {
      "text/plain": [
       "0.7187824645091891"
      ]
     },
     "execution_count": 121,
     "metadata": {},
     "output_type": "execute_result"
    }
   ],
   "source": [
    "evaluator_rf = MulticlassClassificationEvaluator(predictionCol=\"prediction\")\n",
    "evaluator_rf.evaluate(predictions_test_rf)"
   ]
  },
  {
   "cell_type": "code",
   "execution_count": 60,
   "metadata": {},
   "outputs": [
    {
     "data": {
      "text/plain": [
       "0.8047746819583291"
      ]
     },
     "execution_count": 60,
     "metadata": {},
     "output_type": "execute_result"
    }
   ],
   "source": [
    "revaluator_rf = MulticlassClassificationEvaluator(labelCol = 'label',predictionCol = 'prediction', metricName = 'accuracy')\n",
    "revaluator_rf.evaluate(predictions_test_rf)"
   ]
  },
  {
   "cell_type": "code",
   "execution_count": 61,
   "metadata": {},
   "outputs": [
    {
     "data": {
      "text/plain": [
       "0.7177209379049609"
      ]
     },
     "execution_count": 61,
     "metadata": {},
     "output_type": "execute_result"
    }
   ],
   "source": [
    "revaluator_rf = MulticlassClassificationEvaluator(labelCol = 'label',predictionCol = 'prediction', metricName = 'f1')\n",
    "revaluator_rf.evaluate(predictions_test_rf)"
   ]
  },
  {
   "cell_type": "code",
   "execution_count": 63,
   "metadata": {},
   "outputs": [
    {
     "name": "stdout",
     "output_type": "stream",
     "text": [
      "ROC-Accuracy of model at predicting sentiment is: 0.7177\n"
     ]
    }
   ],
   "source": [
    "evaluator = BinaryClassificationEvaluator()\n",
    "roc_accuracy=revaluator_rf.evaluate(predictions_test_rf)\n",
    "print('ROC-Accuracy of model at predicting sentiment is: {:.4f}'.format(roc_accuracy))"
   ]
  },
  {
   "cell_type": "code",
   "execution_count": 64,
   "metadata": {},
   "outputs": [],
   "source": [
    "y_true_rf = predictions_train_rf.select(['label']).collect()\n",
    "y_pred_rf = predictions_train_rf.select(['prediction']).collect()"
   ]
  },
  {
   "cell_type": "code",
   "execution_count": 94,
   "metadata": {},
   "outputs": [],
   "source": [
    "y_true_rf = predictions_test_rf.select(['label']).collect()\n",
    "y_pred_rf = predictions_test_rf.select(['prediction']).collect()"
   ]
  },
  {
   "cell_type": "code",
   "execution_count": 95,
   "metadata": {},
   "outputs": [
    {
     "name": "stdout",
     "output_type": "stream",
     "text": [
      "              precision    recall  f1-score   support\n",
      "\n",
      "         0.0       0.00      0.00      0.00       337\n",
      "         1.0       0.89      1.00      0.94      2662\n",
      "\n",
      "    accuracy                           0.89      2999\n",
      "   macro avg       0.44      0.50      0.47      2999\n",
      "weighted avg       0.79      0.89      0.83      2999\n",
      "\n"
     ]
    },
    {
     "name": "stderr",
     "output_type": "stream",
     "text": [
      "/ichec/home/users/pawan2592/.conda/envs/myenv/lib/python3.5/site-packages/sklearn/metrics/_classification.py:1272: UndefinedMetricWarning: Precision and F-score are ill-defined and being set to 0.0 in labels with no predicted samples. Use `zero_division` parameter to control this behavior.\n",
      "  _warn_prf(average, modifier, msg_start, len(result))\n"
     ]
    }
   ],
   "source": [
    "print(classification_report(y_true_rf, y_pred_rf))"
   ]
  },
  {
   "cell_type": "code",
   "execution_count": 96,
   "metadata": {},
   "outputs": [
    {
     "name": "stdout",
     "output_type": "stream",
     "text": [
      "[[   0  337]\n",
      " [   0 2662]]\n"
     ]
    }
   ],
   "source": [
    "print(confusion_matrix(y_true_rf, y_pred_rf))"
   ]
  },
  {
   "cell_type": "code",
   "execution_count": 68,
   "metadata": {},
   "outputs": [
    {
     "name": "stderr",
     "output_type": "stream",
     "text": [
      "/ichec/home/users/pawan2592/.conda/envs/myenv/lib/python3.5/site-packages/sklearn/metrics/_classification.py:1272: UndefinedMetricWarning: Precision and F-score are ill-defined and being set to 0.0 in labels with no predicted samples. Use `zero_division` parameter to control this behavior.\n",
      "  _warn_prf(average, modifier, msg_start, len(result))\n"
     ]
    },
    {
     "name": "stdout",
     "output_type": "stream",
     "text": [
      "              precision    recall  f1-score   support\n",
      "\n",
      "         0.0       0.00      0.00      0.00    119854\n",
      "         1.0       0.81      1.00      0.89    497065\n",
      "\n",
      "    accuracy                           0.81    616919\n",
      "   macro avg       0.40      0.50      0.45    616919\n",
      "weighted avg       0.65      0.81      0.72    616919\n",
      "\n"
     ]
    }
   ],
   "source": [
    "print(classification_report(y_true_rf, y_pred_rf))"
   ]
  },
  {
   "cell_type": "code",
   "execution_count": 66,
   "metadata": {},
   "outputs": [
    {
     "name": "stdout",
     "output_type": "stream",
     "text": [
      "[[     0 119854]\n",
      " [     0 497065]]\n"
     ]
    }
   ],
   "source": [
    "print(confusion_matrix(y_true_rf, y_pred_rf))"
   ]
  },
  {
   "cell_type": "code",
   "execution_count": 97,
   "metadata": {},
   "outputs": [
    {
     "name": "stdout",
     "output_type": "stream",
     "text": [
      "DenseMatrix([[   0.,  337.],\n",
      "             [   0., 2662.]])\n"
     ]
    }
   ],
   "source": [
    "from pyspark.mllib.evaluation import MulticlassMetrics\n",
    "rf_test = predictions_test_rf.select('prediction','label').rdd\n",
    "metrics = MulticlassMetrics (rf_test)\n",
    "print(metrics.confusionMatrix())"
   ]
  },
  {
   "cell_type": "code",
   "execution_count": 67,
   "metadata": {},
   "outputs": [
    {
     "name": "stdout",
     "output_type": "stream",
     "text": [
      "Accuracy of  Random Forest model at predicting sentiment is: 0.8048\n"
     ]
    }
   ],
   "source": [
    "numberOfTestRecord = test.agg({'label':'count'}).collect()[0]['count(label)']\n",
    "accuracyrf = predictions_test_rf.filter(predictions_test_rf['label'] == predictions_test_rf['prediction']).count()/numberOfTestRecord\n",
    "print('Accuracy of  Random Forest model at predicting sentiment is: {:.4f}'.format(accuracyrf))"
   ]
  },
  {
   "cell_type": "code",
   "execution_count": null,
   "metadata": {},
   "outputs": [],
   "source": []
  },
  {
   "cell_type": "code",
   "execution_count": 74,
   "metadata": {},
   "outputs": [],
   "source": [
    "y_true_rf1 = predictions_train_rf.select(['label']).collect()\n",
    "y_pred_rf1 = predictions_train_rf.select(['prediction']).collect()"
   ]
  },
  {
   "cell_type": "code",
   "execution_count": 76,
   "metadata": {},
   "outputs": [
    {
     "name": "stderr",
     "output_type": "stream",
     "text": [
      "/ichec/home/users/pawan2592/.conda/envs/myenv/lib/python3.5/site-packages/sklearn/metrics/_classification.py:1272: UndefinedMetricWarning: Precision and F-score are ill-defined and being set to 0.0 in labels with no predicted samples. Use `zero_division` parameter to control this behavior.\n",
      "  _warn_prf(average, modifier, msg_start, len(result))\n"
     ]
    },
    {
     "name": "stdout",
     "output_type": "stream",
     "text": [
      "              precision    recall  f1-score   support\n",
      "\n",
      "         0.0       0.00      0.00      0.00     85606\n",
      "         1.0       0.81      1.00      0.89    354829\n",
      "\n",
      "    accuracy                           0.81    440435\n",
      "   macro avg       0.40      0.50      0.45    440435\n",
      "weighted avg       0.65      0.81      0.72    440435\n",
      "\n",
      "----------------------------------------\n",
      "Exception happened during processing of request from ('127.0.0.1', 50784)\n",
      "----------------------------------------\n"
     ]
    },
    {
     "name": "stderr",
     "output_type": "stream",
     "text": [
      "Traceback (most recent call last):\n",
      "  File \"/ichec/home/users/pawan2592/.conda/envs/myenv/lib/python3.5/socketserver.py\", line 313, in _handle_request_noblock\n",
      "    self.process_request(request, client_address)\n",
      "  File \"/ichec/home/users/pawan2592/.conda/envs/myenv/lib/python3.5/socketserver.py\", line 341, in process_request\n",
      "    self.finish_request(request, client_address)\n",
      "  File \"/ichec/home/users/pawan2592/.conda/envs/myenv/lib/python3.5/socketserver.py\", line 354, in finish_request\n",
      "    self.RequestHandlerClass(request, client_address, self)\n",
      "  File \"/ichec/home/users/pawan2592/.conda/envs/myenv/lib/python3.5/socketserver.py\", line 681, in __init__\n",
      "    self.handle()\n",
      "  File \"/ichec/home/users/pawan2592/.conda/envs/myenv/lib/python3.5/site-packages/pyspark/accumulators.py\", line 269, in handle\n",
      "    poll(accum_updates)\n",
      "  File \"/ichec/home/users/pawan2592/.conda/envs/myenv/lib/python3.5/site-packages/pyspark/accumulators.py\", line 241, in poll\n",
      "    if func():\n",
      "  File \"/ichec/home/users/pawan2592/.conda/envs/myenv/lib/python3.5/site-packages/pyspark/accumulators.py\", line 245, in accum_updates\n",
      "    num_updates = read_int(self.rfile)\n",
      "  File \"/ichec/home/users/pawan2592/.conda/envs/myenv/lib/python3.5/site-packages/pyspark/serializers.py\", line 724, in read_int\n",
      "    raise EOFError\n",
      "EOFError\n"
     ]
    }
   ],
   "source": [
    "print(classification_report(y_true_rf1, y_pred_rf1))"
   ]
  },
  {
   "cell_type": "code",
   "execution_count": 75,
   "metadata": {},
   "outputs": [],
   "source": [
    "predictions_train_rf1 = rfModel.transform(training)\n",
    "predictions_test_rf1 = rfModel.transform(test)"
   ]
  },
  {
   "cell_type": "code",
   "execution_count": null,
   "metadata": {},
   "outputs": [],
   "source": [
    "revaluator_rf = MulticlassClassificationEvaluator(labelCol = 'label',predictionCol = 'prediction', metricName = 'accuracy')\n",
    "revaluator_rf.evaluate(predictions_test_rf1)"
   ]
  },
  {
   "cell_type": "code",
   "execution_count": null,
   "metadata": {},
   "outputs": [],
   "source": [
    "revaluator_rf = MulticlassClassificationEvaluator(labelCol = 'label',predictionCol = 'prediction', metricName = 'f1')\n",
    "revaluator_rf.evaluate(predictions_test_rf1)"
   ]
  },
  {
   "cell_type": "code",
   "execution_count": null,
   "metadata": {},
   "outputs": [],
   "source": [
    "evaluator = BinaryClassificationEvaluator()\n",
    "roc_accuracy=revaluator_rf.evaluate(predictions_test_rf)\n",
    "print('ROC-Accuracy of model at predicting sentiment is: {:.4f}'.format(roc_accuracy))"
   ]
  },
  {
   "cell_type": "code",
   "execution_count": null,
   "metadata": {},
   "outputs": [],
   "source": []
  },
  {
   "cell_type": "code",
   "execution_count": null,
   "metadata": {},
   "outputs": [],
   "source": []
  },
  {
   "cell_type": "code",
   "execution_count": 39,
   "metadata": {},
   "outputs": [],
   "source": [
    "#TEXT Pre-processing\n",
    "\n",
    "##COnvert to lower\n",
    "from pyspark.sql.functions import udf\n",
    "from pyspark.sql.types import *\n",
    "\n",
    "def lower(text):\n",
    "    return text.lower()\n",
    "\n",
    "lower_udf =udf(lower,StringType())\n",
    "\n",
    "\n",
    "##Remove nonAscii\n",
    "def strip_non_ascii(data_str):\n",
    "#''' Returns the string without non ASCII characters'''\n",
    "    stripped = (c for c in data_str if 0 < ord(c) < 127)\n",
    "    return ''.join(stripped)\n",
    "# setup pyspark udf function\n",
    "strip_non_ascii_udf = udf(strip_non_ascii, StringType())\n",
    "\n",
    "##FIx abbreviations\n",
    "def fix_abbreviation(data_str):\n",
    "    data_str = data_str.lower()\n",
    "    data_str = re.sub(r'\\bthats\\b', 'that is', data_str)\n",
    "    data_str = re.sub(r'\\bive\\b', 'i have', data_str)\n",
    "    data_str = re.sub(r'\\bim\\b', 'i am', data_str)\n",
    "    data_str = re.sub(r'\\bya\\b', 'yeah', data_str)\n",
    "    data_str = re.sub(r'\\bcant\\b', 'can not', data_str)\n",
    "    data_str = re.sub(r'\\bdont\\b', 'do not', data_str)\n",
    "    data_str = re.sub(r'\\bwont\\b', 'will not', data_str)\n",
    "    data_str = re.sub(r'\\bid\\b', 'i would', data_str)\n",
    "    data_str = re.sub(r'wtf', 'what the fuck', data_str)\n",
    "    data_str = re.sub(r'\\bwth\\b', 'what the hell', data_str)\n",
    "    data_str = re.sub(r'\\br\\b', 'are', data_str)\n",
    "    data_str = re.sub(r'\\bu\\b', 'you', data_str)\n",
    "    data_str = re.sub(r'\\bk\\b', 'OK', data_str)\n",
    "    data_str = re.sub(r'\\bsux\\b', 'sucks', data_str)\n",
    "    data_str = re.sub(r'\\bno+\\b', 'no', data_str)\n",
    "    data_str = re.sub(r'\\bcoo+\\b', 'cool', data_str)\n",
    "    data_str = re.sub(r'rt\\b', '', data_str)\n",
    "    data_str = data_str.strip()\n",
    "    return data_str\n",
    "\n",
    "\n",
    "##Remove punctuations mentions and alphanumeric characters\n",
    "def remove_features(data_str):\n",
    "# compile regex\n",
    "    url_re = re.compile('https?://(www.)?\\w+\\.\\w+(/\\w+)*/?')\n",
    "    punc_re = re.compile('[%s]' % re.escape(string.punctuation))\n",
    "    num_re = re.compile('(\\\\d+)')\n",
    "    mention_re = re.compile('@(\\w+)')\n",
    "    alpha_num_re = re.compile(\"^[a-z0-9_.]+$\")\n",
    "# convert to lowercase\n",
    "    data_str = data_str.lower()\n",
    "# remove hyperlinks\n",
    "    data_str = url_re.sub(' ', data_str)\n",
    "# remove @mentions\n",
    "    data_str = mention_re.sub(' ', data_str)\n",
    "# remove puncuation\n",
    "    data_str = punc_re.sub(' ', data_str)\n",
    "# remove numeric 'words'\n",
    "    data_str = num_re.sub(' ', data_str)\n",
    "# remove non a-z 0-9 characters and words shorter than 1 characters\n",
    "    list_pos = 0\n",
    "    cleaned_str = ''\n",
    "    for word in data_str.split():\n",
    "        if list_pos == 0:\n",
    "            if alpha_num_re.match(word):\n",
    "                cleaned_str = word\n",
    "            else:\n",
    "                cleaned_str = ' '\n",
    "        else:\n",
    "            if alpha_num_re.match(word):\n",
    "                cleaned_str = cleaned_str + ' ' + word\n",
    "            else:\n",
    "                cleaned_str += ' '\n",
    "        list_pos += 1\n",
    "# remove unwanted space, *.split() will automatically split on\n",
    "# whitespace and discard duplicates, the \" \".join() joins the\n",
    "# resulting list into one string.\n",
    "    return \" \".join(cleaned_str.split())\n",
    "# setup pyspark udf function\n",
    "\n",
    "\n",
    "\n",
    "##Remove stop words\n",
    "def remove_stops(data_str):\n",
    "# expects a string\n",
    "    stops = set(stopwords.words(\"english\"))\n",
    "    list_pos = 0\n",
    "    cleaned_str = ''\n",
    "    text = data_str.split()\n",
    "    for word in text:\n",
    "        if word not in stops:\n",
    "# rebuild cleaned_str\n",
    "            if list_pos == 0:\n",
    "                cleaned_str = word\n",
    "            else:\n",
    "                cleaned_str = cleaned_str + ' ' + word\n",
    "            list_pos += 1\n",
    "    return cleaned_str\n",
    "\n",
    "\n",
    "# Part-of-Speech Tagging\n",
    "def tag_and_remove(data_str):\n",
    "    cleaned_str = ' '\n",
    "# noun tags\n",
    "    nn_tags = ['NN', 'NNP', 'NNP', 'NNPS', 'NNS']\n",
    "# adjectives\n",
    "    jj_tags = ['JJ', 'JJR', 'JJS']\n",
    "# verbs\n",
    "    vb_tags = ['VB', 'VBD', 'VBG', 'VBN', 'VBP', 'VBZ']\n",
    "    nltk_tags = nn_tags + jj_tags + vb_tags\n",
    "# break string into 'words'\n",
    "    text = data_str.split()\n",
    "# tag the text and keep only those with the right tags\n",
    "    tagged_text = pos_tag(text)\n",
    "    for tagged_word in tagged_text:\n",
    "        if tagged_word[1] in nltk_tags:\n",
    "            cleaned_str += tagged_word[0] + ' '\n",
    "    return cleaned_str\n",
    "\n",
    "\n",
    "##Lemmatization\n",
    "def lemmatize(data_str):\n",
    "# expects a string\n",
    "    list_pos = 0\n",
    "    cleaned_str = ''\n",
    "    lmtzr = WordNetLemmatizer()\n",
    "    text = data_str.split()\n",
    "    tagged_words = pos_tag(text)\n",
    "    for word in tagged_words:\n",
    "        if 'v' in word[1].lower():\n",
    "            lemma = lmtzr.lemmatize(word[0], pos='v')\n",
    "        else:\n",
    "            lemma = lmtzr.lemmatize(word[0], pos='n')\n",
    "        if list_pos == 0:\n",
    "            cleaned_str = lemma\n",
    "        else:\n",
    "            cleaned_str = cleaned_str + ' ' + lemma\n",
    "        list_pos += 1\n",
    "    return cleaned_str"
   ]
  },
  {
   "cell_type": "code",
   "execution_count": null,
   "metadata": {},
   "outputs": [],
   "source": []
  },
  {
   "cell_type": "code",
   "execution_count": null,
   "metadata": {},
   "outputs": [],
   "source": []
  },
  {
   "cell_type": "code",
   "execution_count": null,
   "metadata": {},
   "outputs": [],
   "source": []
  },
  {
   "cell_type": "code",
   "execution_count": null,
   "metadata": {},
   "outputs": [],
   "source": []
  },
  {
   "cell_type": "code",
   "execution_count": 7,
   "metadata": {},
   "outputs": [],
   "source": [
    "def removePattern(inputText, pattern):\n",
    "    r = re.findall(pattern, inputText)\n",
    "    for i in r:\n",
    "        inputText = re.sub(i, '', inputText)        \n",
    "    return inputText\n",
    "\n",
    "\n",
    "import string\n",
    "\n",
    "def cleanreview(txt):\n",
    "    print(txt)\n",
    "    '''\n",
    "    Remove review return handles (RT @xxx:)\n",
    "    '''\n",
    "    txt = removePattern(txt, 'RT @[\\w]*:')\n",
    "    '''\n",
    "    Remove review handles (@xxx)\n",
    "    '''\n",
    "    txt = removePattern(txt, '@[\\w]*')\n",
    "    '''\n",
    "    Remove URL links (httpxxx)\n",
    "    '''\n",
    "    txt = removePattern(txt, 'https?://[A-Za-z0-9./]*')\n",
    "    '''\n",
    "    Remove special characters, numbers, punctuations\n",
    "    '''\n",
    "    txt = re.sub('[^A-Za-z]+', ' ', txt)\n",
    "    txt = re.sub('\\W+',' ', txt)\n",
    "    txt = re.sub('\\s+[a-zA-Z]\\s+', ' ', txt)\n",
    "    txt = re.sub('\\^[a-zA-Z]\\s+', ' ', txt)\n",
    "    txt = re.sub('\\[.*?\\]', '', txt)\n",
    "    txt = re.sub('[%s]' % re.escape(string.punctuation), '', txt)\n",
    "    txt = re.sub('\\w*\\d\\w*', '', txt)\n",
    "    return txt"
   ]
  },
  {
   "cell_type": "code",
   "execution_count": 8,
   "metadata": {},
   "outputs": [
    {
     "name": "stdout",
     "output_type": "stream",
     "text": [
      "reviewsummary\n",
      "+-------+--------------------+--------------------+\n",
      "|overall|       reviewsummary|     cleanreviewText|\n",
      "+-------+--------------------+--------------------+\n",
      "|    5.0|exactly what i ne...|exactly what i ne...|\n",
      "|    2.0|i agree with the ...|i agree with the ...|\n",
      "|    4.0|love these... i a...|love these... i a...|\n",
      "|    2.0|too tiny an openi...|too tiny an openi...|\n",
      "|    3.0|    okay three stars|    okay three stars|\n",
      "|    5.0|exactly what i wa...|exactly what i wa...|\n",
      "|    4.0|these little plas...|these little plas...|\n",
      "|    3.0|mother - in - law...|mother - in - law...|\n",
      "|    3.0|item is of good q...|item is of good q...|\n",
      "|    3.0|i had used my las...|i had used my las...|\n",
      "+-------+--------------------+--------------------+\n",
      "only showing top 10 rows\n",
      "\n",
      "+-------+--------------------+--------------------+--------------------+\n",
      "|overall|       reviewsummary|     cleanreviewText|         reviewText1|\n",
      "+-------+--------------------+--------------------+--------------------+\n",
      "|    5.0|exactly what i ne...|exactly what i ne...|[exactly, what, i...|\n",
      "|    2.0|i agree with the ...|i agree with the ...|[i, agree, with, ...|\n",
      "|    4.0|love these... i a...|love these... i a...|[love, these, i, ...|\n",
      "|    2.0|too tiny an openi...|too tiny an openi...|[too, tiny, an, o...|\n",
      "|    3.0|    okay three stars|    okay three stars|[okay, three, stars]|\n",
      "|    5.0|exactly what i wa...|exactly what i wa...|[exactly, what, i...|\n",
      "|    4.0|these little plas...|these little plas...|[these, little, p...|\n",
      "|    3.0|mother - in - law...|mother - in - law...|[mother, in, law,...|\n",
      "|    3.0|item is of good q...|item is of good q...|[item, is, of, go...|\n",
      "|    3.0|i had used my las...|i had used my las...|[i, had, used, my...|\n",
      "+-------+--------------------+--------------------+--------------------+\n",
      "only showing top 10 rows\n",
      "\n",
      "+-------+--------------------+--------------------+--------------------+--------------------+\n",
      "|overall|       reviewsummary|     cleanreviewText|         reviewText1|  filteredreviewText|\n",
      "+-------+--------------------+--------------------+--------------------+--------------------+\n",
      "|    5.0|exactly what i ne...|exactly what i ne...|[exactly, what, i...|[exactly, needed,...|\n",
      "|    2.0|i agree with the ...|i agree with the ...|[i, agree, with, ...|[agree, review, o...|\n",
      "|    4.0|love these... i a...|love these... i a...|[love, these, i, ...|[love, going, ord...|\n",
      "|    2.0|too tiny an openi...|too tiny an openi...|[too, tiny, an, o...|[tiny, opening, t...|\n",
      "|    3.0|    okay three stars|    okay three stars|[okay, three, stars]|[okay, three, stars]|\n",
      "|    5.0|exactly what i wa...|exactly what i wa...|[exactly, what, i...|[exactly, wanted,...|\n",
      "|    4.0|these little plas...|these little plas...|[these, little, p...|[little, plastic,...|\n",
      "|    3.0|mother - in - law...|mother - in - law...|[mother, in, law,...|[mother, law, wan...|\n",
      "|    3.0|item is of good q...|item is of good q...|[item, is, of, go...|[item, good, qual...|\n",
      "|    3.0|i had used my las...|i had used my las...|[i, had, used, my...|[used, last, el, ...|\n",
      "+-------+--------------------+--------------------+--------------------+--------------------+\n",
      "only showing top 10 rows\n",
      "\n"
     ]
    }
   ],
   "source": [
    "dfcleanreview=df.withColumn('cleanreviewText', col(cleanreview('reviewsummary')))\n",
    "dfcleanreview.select('overall','reviewsummary','cleanreviewText').show(10)\n",
    "\n",
    "\n",
    "re_tokenizer = RegexTokenizer(inputCol=\"cleanreviewText\", outputCol=\"reviewText1\", pattern=\"[^\\w]\")\n",
    "tokenized = re_tokenizer.transform(dfcleanreview)\n",
    "tokenized.select('overall','reviewsummary','cleanreviewText','reviewText1').show(10)\n",
    "\n",
    "\n",
    "\n",
    "\n",
    "remover = StopWordsRemover(inputCol='reviewText1', outputCol='filteredreviewText')\n",
    "dfStopwordRemoved=remover.transform(tokenized)\n",
    "dfStopwordRemoved.select('overall','reviewsummary','cleanreviewText','reviewText1','filteredreviewText').show(10)\n"
   ]
  },
  {
   "cell_type": "code",
   "execution_count": 9,
   "metadata": {},
   "outputs": [],
   "source": [
    "def get_part_of_speech(word):\n",
    "  probable_part_of_speech = wordnet.synsets(word)\n",
    "  \n",
    "  pos_counts = Counter()\n",
    "\n",
    "\n",
    "  pos_counts[\"n\"] = len(  [ item for item in probable_part_of_speech if item.pos()==\"n\"]  )\n",
    "  pos_counts[\"v\"] = len(  [ item for item in probable_part_of_speech if item.pos()==\"v\"]  )\n",
    "  pos_counts[\"a\"] = len(  [ item for item in probable_part_of_speech if item.pos()==\"a\"]  )\n",
    "  pos_counts[\"r\"] = len(  [ item for item in probable_part_of_speech if item.pos()==\"r\"]  )\n",
    "  \n",
    "  most_likely_part_of_speech = pos_counts.most_common(1)[0][0]\n",
    "  return most_likely_part_of_speech\n",
    "\n",
    "\n",
    "\n",
    "\n",
    "def Lemmatizing_Words(Words):\n",
    "    Lm = WordNetLemmatizer()\n",
    "    Lemmatized_Words = []\n",
    "    for word in Words:\n",
    "        Lemmatized_Words.append(Lm.lemmatize(word,get_part_of_speech(word)))\n",
    "    return Lemmatized_Words"
   ]
  },
  {
   "cell_type": "code",
   "execution_count": 14,
   "metadata": {},
   "outputs": [],
   "source": [
    "sparkLemmer1 = udf(lambda x:Lemmatizing_Words(x), StringType())\n",
    "\n",
    "\n"
   ]
  },
  {
   "cell_type": "code",
   "execution_count": 3,
   "metadata": {},
   "outputs": [],
   "source": [
    "\n",
    "\n"
   ]
  },
  {
   "cell_type": "code",
   "execution_count": null,
   "metadata": {},
   "outputs": [],
   "source": []
  },
  {
   "cell_type": "code",
   "execution_count": 15,
   "metadata": {},
   "outputs": [],
   "source": [
    "df_new_lemma_1 = dfStopwordRemoved.select('overall',sparkLemmer1('filteredreviewText').alias('lems'))\n"
   ]
  },
  {
   "cell_type": "code",
   "execution_count": 16,
   "metadata": {},
   "outputs": [
    {
     "data": {
      "text/plain": [
       "DataFrame[lems: string]"
      ]
     },
     "execution_count": 16,
     "metadata": {},
     "output_type": "execute_result"
    }
   ],
   "source": [
    "df_new_lemma_1.select('lems')"
   ]
  },
  {
   "cell_type": "code",
   "execution_count": 17,
   "metadata": {},
   "outputs": [
    {
     "name": "stdout",
     "output_type": "stream",
     "text": [
      "+--------------------+\n",
      "|                lems|\n",
      "+--------------------+\n",
      "|[exactly, need, p...|\n",
      "|[agree, review, o...|\n",
      "|[love, go, order,...|\n",
      "|[tiny, opening, t...|\n",
      "| [okay, three, star]|\n",
      "+--------------------+\n",
      "only showing top 5 rows\n",
      "\n"
     ]
    }
   ],
   "source": [
    "df_new_lemma_1.select('lems').show(5)"
   ]
  },
  {
   "cell_type": "code",
   "execution_count": 87,
   "metadata": {},
   "outputs": [],
   "source": [
    "from vaderSentiment.vaderSentiment import SentimentIntensityAnalyzer"
   ]
  },
  {
   "cell_type": "code",
   "execution_count": 19,
   "metadata": {},
   "outputs": [],
   "source": [
    "def getSentimentScore(reviewlemText):\n",
    "    analyzer = SentimentIntensityAnalyzer()\n",
    "    vs = analyzer.polarity_scores(reviewlemText)\n",
    "    return float(vs['compound'])\n",
    "\n",
    "\n",
    "def getCleanreviewText(filteredreviewText1):\n",
    "    return ' '.join(filteredreviewText1)\n"
   ]
  },
  {
   "cell_type": "code",
   "execution_count": 20,
   "metadata": {},
   "outputs": [
    {
     "name": "stdout",
     "output_type": "stream",
     "text": [
      "+-------+-------------------------+\n",
      "|overall|filteredCleanedreviewText|\n",
      "+-------+-------------------------+\n",
      "|    5.0|     exactly need perf...|\n",
      "|    2.0|     agree review open...|\n",
      "|    4.0|     love go order ano...|\n",
      "|    2.0|     tiny opening two ...|\n",
      "|    3.0|          okay three star|\n",
      "+-------+-------------------------+\n",
      "only showing top 5 rows\n",
      "\n"
     ]
    }
   ],
   "source": [
    "udfCleanreviewText = udf(getCleanreviewText, StringType())\n",
    "dfFilteredCleanedTweet = df_new_lemma_1.withColumn('filteredCleanedreviewText', udfCleanreviewText('lems'))\n",
    "dfFilteredCleanedTweet.select('overall','filteredCleanedreviewText').show(5)"
   ]
  },
  {
   "cell_type": "code",
   "execution_count": 21,
   "metadata": {},
   "outputs": [
    {
     "name": "stdout",
     "output_type": "stream",
     "text": [
      "+-------+-------------------------+--------------+\n",
      "|overall|filteredCleanedreviewText|sentimentScore|\n",
      "+-------+-------------------------+--------------+\n",
      "|    5.0|     exactly need perf...|        0.5719|\n",
      "|    2.0|     agree review open...|        0.6124|\n",
      "|    4.0|     love go order ano...|        0.8126|\n",
      "|    2.0|     tiny opening two ...|           0.0|\n",
      "|    3.0|          okay three star|        0.2263|\n",
      "+-------+-------------------------+--------------+\n",
      "only showing top 5 rows\n",
      "\n"
     ]
    }
   ],
   "source": [
    "udfSentimentScore = udf(getSentimentScore, FloatType())\n",
    "dfSentimentScore = dfFilteredCleanedTweet.withColumn('sentimentScore', udfSentimentScore('filteredCleanedreviewText'))\n",
    "dfSentimentScore.select('overall','filteredCleanedreviewText','sentimentScore').show(5)"
   ]
  },
  {
   "cell_type": "code",
   "execution_count": 22,
   "metadata": {},
   "outputs": [],
   "source": [
    "def getSentimentScoreneg(reviewlemText):\n",
    "    analyzer = SentimentIntensityAnalyzer()\n",
    "    vs = analyzer.polarity_scores(reviewlemText)\n",
    "    return float(vs['neg'])"
   ]
  },
  {
   "cell_type": "code",
   "execution_count": 23,
   "metadata": {},
   "outputs": [
    {
     "name": "stdout",
     "output_type": "stream",
     "text": [
      "+-------+-------------------------+--------------+------------+\n",
      "|overall|filteredCleanedreviewText|sentimentScore|sentimentneg|\n",
      "+-------+-------------------------+--------------+------------+\n",
      "|    5.0|     exactly need perf...|        0.5719|         0.0|\n",
      "|    2.0|     agree review open...|        0.6124|         0.0|\n",
      "|    4.0|     love go order ano...|        0.8126|       0.085|\n",
      "|    2.0|     tiny opening two ...|           0.0|         0.0|\n",
      "|    3.0|          okay three star|        0.2263|         0.0|\n",
      "+-------+-------------------------+--------------+------------+\n",
      "only showing top 5 rows\n",
      "\n"
     ]
    }
   ],
   "source": [
    "udfSentimentScoreneg = udf(getSentimentScoreneg, FloatType())\n",
    "dfSentimentScoreneg = dfSentimentScore.withColumn('sentimentneg', udfSentimentScoreneg('filteredCleanedreviewText'))\n",
    "dfSentimentScoreneg.select('overall','filteredCleanedreviewText','sentimentScore','sentimentneg').show(5)"
   ]
  },
  {
   "cell_type": "code",
   "execution_count": 24,
   "metadata": {},
   "outputs": [],
   "source": [
    "def getSentimentScoreneu(reviewlemText):\n",
    "    analyzer = SentimentIntensityAnalyzer()\n",
    "    vs = analyzer.polarity_scores(reviewlemText)\n",
    "    return float(vs['neu'])"
   ]
  },
  {
   "cell_type": "code",
   "execution_count": null,
   "metadata": {},
   "outputs": [],
   "source": [
    "# def getSentimentScoreneu(reviewlemText):\n",
    "#     analyzer = SentimentIntensityAnalyzer()\n",
    "#     vs = analyzer.polarity_scores(reviewlemText)\n",
    "#     return float(vs['neu'],vs['pos'],vs['neg'])"
   ]
  },
  {
   "cell_type": "code",
   "execution_count": 25,
   "metadata": {},
   "outputs": [
    {
     "name": "stdout",
     "output_type": "stream",
     "text": [
      "+-------+-------------------------+--------------+------------+------------+\n",
      "|overall|filteredCleanedreviewText|sentimentScore|sentimentneg|sentimentneu|\n",
      "+-------+-------------------------+--------------+------------+------------+\n",
      "|    5.0|     exactly need perf...|        0.5719|         0.0|       0.448|\n",
      "|    2.0|     agree review open...|        0.6124|         0.0|         0.8|\n",
      "|    4.0|     love go order ano...|        0.8126|       0.085|       0.597|\n",
      "|    2.0|     tiny opening two ...|           0.0|         0.0|         1.0|\n",
      "|    3.0|          okay three star|        0.2263|         0.0|       0.513|\n",
      "+-------+-------------------------+--------------+------------+------------+\n",
      "only showing top 5 rows\n",
      "\n"
     ]
    }
   ],
   "source": [
    "udfSentimentScoreneu = udf(getSentimentScoreneu, FloatType())\n",
    "dfSentimentScoreneu = dfSentimentScoreneg.withColumn('sentimentneu',udfSentimentScoreneu('filteredCleanedreviewText'))\n",
    "dfSentimentScoreneu.select('overall','filteredCleanedreviewText','sentimentScore','sentimentneg','sentimentneu').show(5)\n",
    "\n",
    "# len = length(getSentimentScorenew)\n",
    "# for i in getSentimentScoreneu:    \n",
    "#     if(len==3):\n",
    "#         dfSentimentScoreneg.withColumn('sentimentneu' ,udf(i,FloatType())('filteredCleanedreviewText'))\n",
    "#         len--\n",
    "#     elif(len==2):\n",
    "#         dfSentimentScoreneg.withColumn('sentimentpos' ,udf(i,FloatType())('filteredCleanedreviewText'))\n",
    "#         len--\n",
    "#     elif(len==1)\n",
    "#         dfSentimentScoreneg.withColumn('sentimentneg' ,udf(i,FloatType())('filteredCleanedreviewText'))\n",
    "#         len--"
   ]
  },
  {
   "cell_type": "code",
   "execution_count": 34,
   "metadata": {},
   "outputs": [
    {
     "ename": "AttributeError",
     "evalue": "'function' object has no attribute 'dtypes'",
     "output_type": "error",
     "traceback": [
      "\u001b[0;31m---------------------------------------------------------------------------\u001b[0m",
      "\u001b[0;31mAttributeError\u001b[0m                            Traceback (most recent call last)",
      "\u001b[0;32m<ipython-input-34-36d41d07ae34>\u001b[0m in \u001b[0;36m<module>\u001b[0;34m()\u001b[0m\n\u001b[0;32m----> 1\u001b[0;31m \u001b[0mudfSentimentScoreneu\u001b[0m\u001b[0;34m.\u001b[0m\u001b[0mdtypes\u001b[0m\u001b[0;34m\u001b[0m\u001b[0m\n\u001b[0m",
      "\u001b[0;31mAttributeError\u001b[0m: 'function' object has no attribute 'dtypes'"
     ]
    }
   ],
   "source": [
    "udfSentimentScoreneu.dtypes\n"
   ]
  },
  {
   "cell_type": "code",
   "execution_count": 6,
   "metadata": {},
   "outputs": [
    {
     "ename": "TypeError",
     "evalue": "'function' object is not iterable",
     "output_type": "error",
     "traceback": [
      "\u001b[0;31m---------------------------------------------------------------------------\u001b[0m",
      "\u001b[0;31mTypeError\u001b[0m                                 Traceback (most recent call last)",
      "\u001b[0;32m<ipython-input-6-b495527cd4e2>\u001b[0m in \u001b[0;36m<module>\u001b[0;34m()\u001b[0m\n\u001b[1;32m      1\u001b[0m \u001b[0mlen\u001b[0m\u001b[0;34m=\u001b[0m\u001b[0;36m3\u001b[0m\u001b[0;34m\u001b[0m\u001b[0m\n\u001b[0;32m----> 2\u001b[0;31m \u001b[0;32mfor\u001b[0m \u001b[0mi\u001b[0m \u001b[0;32min\u001b[0m \u001b[0;34m(\u001b[0m\u001b[0mgetSentimentScoreneu\u001b[0m\u001b[0;34m)\u001b[0m\u001b[0;34m:\u001b[0m\u001b[0;34m\u001b[0m\u001b[0m\n\u001b[0m\u001b[1;32m      3\u001b[0m     \u001b[0;32mif\u001b[0m\u001b[0;34m(\u001b[0m\u001b[0mlen\u001b[0m\u001b[0;34m==\u001b[0m\u001b[0;36m3\u001b[0m\u001b[0;34m)\u001b[0m\u001b[0;34m:\u001b[0m\u001b[0;34m\u001b[0m\u001b[0m\n\u001b[1;32m      4\u001b[0m         \u001b[0mdfSentimentScoreneg\u001b[0m\u001b[0;34m.\u001b[0m\u001b[0mwithColumn\u001b[0m\u001b[0;34m(\u001b[0m\u001b[0;34m'sentimentneu'\u001b[0m \u001b[0;34m,\u001b[0m\u001b[0mudf\u001b[0m\u001b[0;34m(\u001b[0m\u001b[0mi\u001b[0m\u001b[0;34m,\u001b[0m\u001b[0mFloatType\u001b[0m\u001b[0;34m(\u001b[0m\u001b[0;34m)\u001b[0m\u001b[0;34m)\u001b[0m\u001b[0;34m(\u001b[0m\u001b[0;34m'filteredCleanedreviewText'\u001b[0m\u001b[0;34m)\u001b[0m\u001b[0;34m)\u001b[0m\u001b[0;34m\u001b[0m\u001b[0m\n\u001b[1;32m      5\u001b[0m         \u001b[0mlen\u001b[0m\u001b[0;34m-=\u001b[0m\u001b[0;36m1\u001b[0m\u001b[0;34m\u001b[0m\u001b[0m\n",
      "\u001b[0;31mTypeError\u001b[0m: 'function' object is not iterable"
     ]
    }
   ],
   "source": [
    "len=3\n",
    "\n",
    "for i in (getSentimentScoreneu):    \n",
    "    if(len==3):\n",
    "        dfSentimentScoreneg.withColumn('sentimentneu' ,udf(i,FloatType())('filteredCleanedreviewText'))\n",
    "        len-=1\n",
    "    elif(len==2):\n",
    "        dfSentimentScoreneg.withColumn('sentimentpos' ,udf(i,FloatType())('filteredCleanedreviewText'))\n",
    "        len-=1\n",
    "    elif(len==1):\n",
    "        dfSentimentScoreneg.withColumn('sentimentneg' ,udf(i,FloatType())('filteredCleanedreviewText'))\n",
    "        len-=1"
   ]
  },
  {
   "cell_type": "code",
   "execution_count": 26,
   "metadata": {},
   "outputs": [],
   "source": [
    "def getSentimentScorepos(reviewlemText):\n",
    "    analyzer = SentimentIntensityAnalyzer()\n",
    "    vs = analyzer.polarity_scores(reviewlemText)\n",
    "    return float(vs['pos'])"
   ]
  },
  {
   "cell_type": "code",
   "execution_count": 27,
   "metadata": {},
   "outputs": [
    {
     "name": "stdout",
     "output_type": "stream",
     "text": [
      "+-------+-------------------------+--------------+------------+------------+------------+\n",
      "|overall|filteredCleanedreviewText|sentimentScore|sentimentneu|sentimentneg|sentimentpos|\n",
      "+-------+-------------------------+--------------+------------+------------+------------+\n",
      "|    5.0|     exactly need perf...|        0.5719|       0.448|         0.0|       0.552|\n",
      "|    2.0|     agree review open...|        0.6124|         0.8|         0.0|         0.2|\n",
      "|    4.0|     love go order ano...|        0.8126|       0.597|       0.085|       0.318|\n",
      "|    2.0|     tiny opening two ...|           0.0|         1.0|         0.0|         0.0|\n",
      "|    3.0|          okay three star|        0.2263|       0.513|         0.0|       0.487|\n",
      "+-------+-------------------------+--------------+------------+------------+------------+\n",
      "only showing top 5 rows\n",
      "\n"
     ]
    }
   ],
   "source": [
    "udfSentimentScorepos = udf(getSentimentScorepos, FloatType())\n",
    "dfSentimentScorepos = dfSentimentScoreneu.withColumn('sentimentpos', udfSentimentScorepos('filteredCleanedreviewText'))\n",
    "dfSentimentScorepos.select('overall','filteredCleanedreviewText','sentimentScore','sentimentneu','sentimentneg','sentimentpos').show(5)"
   ]
  },
  {
   "cell_type": "code",
   "execution_count": 28,
   "metadata": {},
   "outputs": [
    {
     "name": "stdout",
     "output_type": "stream",
     "text": [
      "+-------+------+\n",
      "|overall| count|\n",
      "+-------+------+\n",
      "|    1.0|106916|\n",
      "|    4.0|149103|\n",
      "|    3.0| 96949|\n",
      "|    2.0| 64669|\n",
      "|    5.0|464263|\n",
      "+-------+------+\n",
      "\n"
     ]
    },
    {
     "data": {
      "text/html": [
       "<div>\n",
       "<style scoped>\n",
       "    .dataframe tbody tr th:only-of-type {\n",
       "        vertical-align: middle;\n",
       "    }\n",
       "\n",
       "    .dataframe tbody tr th {\n",
       "        vertical-align: top;\n",
       "    }\n",
       "\n",
       "    .dataframe thead th {\n",
       "        text-align: right;\n",
       "    }\n",
       "</style>\n",
       "<table border=\"1\" class=\"dataframe\">\n",
       "  <thead>\n",
       "    <tr style=\"text-align: right;\">\n",
       "      <th></th>\n",
       "      <th>overall</th>\n",
       "      <th>count</th>\n",
       "    </tr>\n",
       "  </thead>\n",
       "  <tbody>\n",
       "    <tr>\n",
       "      <th>0</th>\n",
       "      <td>1.0</td>\n",
       "      <td>106916</td>\n",
       "    </tr>\n",
       "    <tr>\n",
       "      <th>1</th>\n",
       "      <td>4.0</td>\n",
       "      <td>149103</td>\n",
       "    </tr>\n",
       "    <tr>\n",
       "      <th>2</th>\n",
       "      <td>3.0</td>\n",
       "      <td>96949</td>\n",
       "    </tr>\n",
       "    <tr>\n",
       "      <th>3</th>\n",
       "      <td>2.0</td>\n",
       "      <td>64669</td>\n",
       "    </tr>\n",
       "    <tr>\n",
       "      <th>4</th>\n",
       "      <td>5.0</td>\n",
       "      <td>464263</td>\n",
       "    </tr>\n",
       "  </tbody>\n",
       "</table>\n",
       "</div>"
      ],
      "text/plain": [
       "   overall   count\n",
       "0      1.0  106916\n",
       "1      4.0  149103\n",
       "2      3.0   96949\n",
       "3      2.0   64669\n",
       "4      5.0  464263"
      ]
     },
     "execution_count": 28,
     "metadata": {},
     "output_type": "execute_result"
    }
   ],
   "source": [
    "dfSentimentScorepos.groupBy('overall').count().show()\n",
    "\n",
    "dfPlotVaderSentiment=dfSentimentScorepos.groupBy('overall').count().toPandas()\n",
    "dfPlotVaderSentiment"
   ]
  },
  {
   "cell_type": "code",
   "execution_count": 39,
   "metadata": {},
   "outputs": [
    {
     "ename": "ValueError",
     "evalue": "The truth value of a DataFrame is ambiguous. Use a.empty, a.bool(), a.item(), a.any() or a.all().",
     "output_type": "error",
     "traceback": [
      "\u001b[0;31m---------------------------------------------------------------------------\u001b[0m",
      "\u001b[0;31mValueError\u001b[0m                                Traceback (most recent call last)",
      "\u001b[0;32m<ipython-input-39-5b616a6738dc>\u001b[0m in \u001b[0;36m<module>\u001b[0;34m()\u001b[0m\n\u001b[0;32m----> 1\u001b[0;31m \u001b[0;32mif\u001b[0m\u001b[0;34m(\u001b[0m\u001b[0mdfPlotVaderSentiment\u001b[0m\u001b[0;34m[\u001b[0m\u001b[0;34m(\u001b[0m\u001b[0mdfPlotVaderSentiment\u001b[0m\u001b[0;34m[\u001b[0m\u001b[0;34m'overall'\u001b[0m\u001b[0;34m]\u001b[0m \u001b[0;34m==\u001b[0m \u001b[0;36m1.0\u001b[0m\u001b[0;34m)\u001b[0m \u001b[0;34m|\u001b[0m \u001b[0;34m(\u001b[0m\u001b[0mdfPlotVaderSentiment\u001b[0m\u001b[0;34m[\u001b[0m\u001b[0;34m'overall'\u001b[0m\u001b[0;34m]\u001b[0m \u001b[0;34m==\u001b[0m \u001b[0;36m2.0\u001b[0m\u001b[0;34m)\u001b[0m\u001b[0;34m]\u001b[0m\u001b[0;34m)\u001b[0m\u001b[0;34m:\u001b[0m\u001b[0;34m\u001b[0m\u001b[0m\n\u001b[0m\u001b[1;32m      2\u001b[0m     \u001b[0mdfPlotVaderSentiment\u001b[0m\u001b[0;34m[\u001b[0m\u001b[0;34m'label'\u001b[0m\u001b[0;34m]\u001b[0m \u001b[0;34m=\u001b[0m \u001b[0;34m'Negative'\u001b[0m\u001b[0;34m\u001b[0m\u001b[0m\n\u001b[1;32m      3\u001b[0m \u001b[0;31m#     elif((dfPlotVaderSentiment['overall'] == 4.0) or (dfPlotVaderSentiment['overall'] == 5.0)):\u001b[0m\u001b[0;34m\u001b[0m\u001b[0;34m\u001b[0m\u001b[0m\n\u001b[1;32m      4\u001b[0m \u001b[0;31m#         dfPlotVaderSentiment['label'] = 'Positive'\u001b[0m\u001b[0;34m\u001b[0m\u001b[0;34m\u001b[0m\u001b[0m\n\u001b[1;32m      5\u001b[0m \u001b[0;31m#         else:\u001b[0m\u001b[0;34m\u001b[0m\u001b[0;34m\u001b[0m\u001b[0m\n",
      "\u001b[0;32m~/.conda/envs/myenv/lib/python3.5/site-packages/pandas/core/generic.py\u001b[0m in \u001b[0;36m__nonzero__\u001b[0;34m(self)\u001b[0m\n\u001b[1;32m   1553\u001b[0m             \u001b[0;34m\"The truth value of a {0} is ambiguous. \"\u001b[0m\u001b[0;34m\u001b[0m\u001b[0m\n\u001b[1;32m   1554\u001b[0m             \"Use a.empty, a.bool(), a.item(), a.any() or a.all().\".format(\n\u001b[0;32m-> 1555\u001b[0;31m                 \u001b[0mself\u001b[0m\u001b[0;34m.\u001b[0m\u001b[0m__class__\u001b[0m\u001b[0;34m.\u001b[0m\u001b[0m__name__\u001b[0m\u001b[0;34m\u001b[0m\u001b[0m\n\u001b[0m\u001b[1;32m   1556\u001b[0m             )\n\u001b[1;32m   1557\u001b[0m         )\n",
      "\u001b[0;31mValueError\u001b[0m: The truth value of a DataFrame is ambiguous. Use a.empty, a.bool(), a.item(), a.any() or a.all()."
     ]
    }
   ],
   "source": [
    "if(dfPlotVaderSentiment[(dfPlotVaderSentiment['overall'] == 1.0) | (dfPlotVaderSentiment['overall'] == 2.0)]):\n",
    "    dfPlotVaderSentiment['label'] = 'Negative'\n",
    "#     elif((dfPlotVaderSentiment['overall'] == 4.0) or (dfPlotVaderSentiment['overall'] == 5.0)):\n",
    "#         dfPlotVaderSentiment['label'] = 'Positive'\n",
    "#         else:\n",
    "#             dfPlotVaderSentiment['label'] = 'Neutral'"
   ]
  },
  {
   "cell_type": "code",
   "execution_count": 29,
   "metadata": {},
   "outputs": [
    {
     "data": {
      "image/png": "[encoded data removed]",
      "text/plain": [
       "<Figure size 720x576 with 1 Axes>"
      ]
     },
     "metadata": {},
     "output_type": "display_data"
    }
   ],
   "source": [
    "sentimentsList=['1','2','3','4','5']\n",
    "sns.set_style('darkgrid')\n",
    "sns.set_palette('rainbow')\n",
    "plt.figure(figsize=(10,8))\n",
    "sns.barplot(x='overall', y='count',data=dfPlotVaderSentiment, alpha=0.7)\n",
    "plt.title('Number of occurrences for each type of Sentiment',fontsize=18)\n",
    "plt.xticks(np.arange(5),sentimentsList)\n",
    "plt.setp(plt.gca().get_xticklabels(), fontsize=14)\n",
    "plt.xlabel('Sentiment Score from 1 to 5',fontsize=16)\n",
    "plt.ylabel('Number of occurrences',fontsize=16)\n",
    "plt.show()"
   ]
  },
  {
   "cell_type": "code",
   "execution_count": 57,
   "metadata": {},
   "outputs": [
    {
     "data": {
      "text/plain": [
       "[106916, 149103, 96949, 64669, 464263]"
      ]
     },
     "execution_count": 57,
     "metadata": {},
     "output_type": "execute_result"
    }
   ],
   "source": [
    "sizes"
   ]
  },
  {
   "cell_type": "code",
   "execution_count": 31,
   "metadata": {},
   "outputs": [
    {
     "data": {
      "image/png": "[encoded data removed]",
      "text/plain": [
       "<Figure size 432x288 with 1 Axes>"
      ]
     },
     "metadata": {},
     "output_type": "display_data"
    }
   ],
   "source": [
    "# labels = ['Positive' if sentiment>=4 else 'Negative' for sentiment in dfPlotVaderSentiment['overall'].tolist() ]\n",
    "# labels =['5','4','3','2','1']\n",
    "labels =[]\n",
    "for sentiment in dfPlotVaderSentiment['overall'].tolist():\n",
    "    if sentiment <=2:\n",
    "        labels.append('Negative')\n",
    "    elif sentiment ==3:\n",
    "        labels.append('Neutral')\n",
    "    else:\n",
    "        labels.append('Positive')\n",
    "        \n",
    "sizes = dfPlotVaderSentiment['count'].tolist()\n",
    "explode= (0.10,0.10,0.10,0.10,0.10)\n",
    "colors = ['#66b3ff','#99ff99','#ffcc99']\n",
    "\n",
    "plt.pie(dfPlotVaderSentiment['count'],  labels=labels, colors=colors, shadow=True, autopct='%1.1f%%'\n",
    "        ,explode=explode, pctdistance=0.85)\n",
    "\n",
    "'''\n",
    "draw circle\n",
    "'''\n",
    "centre_circle = plt.Circle((0,0),0.70,fc='white')\n",
    "fig = plt.gcf()\n",
    "fig.gca().add_artist(centre_circle)\n",
    "\n",
    "plt.axis('equal')\n",
    "plt.tight_layout()\n",
    "plt.title('Percentage distribution of each type of sentiment in all Reviews',fontsize=16)\n",
    "plt.legend(loc='upper right', labels=labels)\n",
    "plt.show()"
   ]
  },
  {
   "cell_type": "code",
   "execution_count": null,
   "metadata": {},
   "outputs": [],
   "source": []
  },
  {
   "cell_type": "code",
   "execution_count": 32,
   "metadata": {},
   "outputs": [
    {
     "name": "stdout",
     "output_type": "stream",
     "text": [
      "+-------+-------------------------+--------------+------------+------------+------------+\n",
      "|overall|filteredCleanedreviewText|sentimentScore|sentimentneu|sentimentneg|sentimentpos|\n",
      "+-------+-------------------------+--------------+------------+------------+------------+\n",
      "|    5.0|     exactly need perf...|        0.5719|       0.448|         0.0|       0.552|\n",
      "|    2.0|     agree review open...|        0.6124|         0.8|         0.0|         0.2|\n",
      "|    4.0|     love go order ano...|        0.8126|       0.597|       0.085|       0.318|\n",
      "|    2.0|     tiny opening two ...|           0.0|         1.0|         0.0|         0.0|\n",
      "|    3.0|          okay three star|        0.2263|       0.513|         0.0|       0.487|\n",
      "+-------+-------------------------+--------------+------------+------------+------------+\n",
      "only showing top 5 rows\n",
      "\n"
     ]
    }
   ],
   "source": [
    "dfSentimentScorepos.select('overall','filteredCleanedreviewText','sentimentScore','sentimentneu','sentimentneg','sentimentpos').show(5)"
   ]
  },
  {
   "cell_type": "code",
   "execution_count": 33,
   "metadata": {},
   "outputs": [],
   "source": [
    "filteredCleanedreviewTextRddList = dfSentimentScorepos.select('filteredCleanedreviewText').collect()\n",
    "filteredCleanedreviewTextList = [row.filteredCleanedreviewText for row in filteredCleanedreviewTextRddList]\n",
    "wordList = []\n",
    "for filteredCleanedreviewText in filteredCleanedreviewTextList:\n",
    "     wordList.append(filteredCleanedreviewText.split(' '))\n",
    "allreviewWords = [word for subList in wordList for word in subList]\n",
    "'''\n",
    "Remove empty strings\n",
    "'''\n",
    "allreviewWords = list(filter(None, allreviewWords))"
   ]
  },
  {
   "cell_type": "code",
   "execution_count": 34,
   "metadata": {},
   "outputs": [
    {
     "data": {
      "text/plain": [
       "['machiene',\n",
       " 'amy',\n",
       " 'milanas',\n",
       " 'cumfertble',\n",
       " 'tvmerch',\n",
       " 'getr',\n",
       " 'lunchlady',\n",
       " 'ots',\n",
       " 'easiliy',\n",
       " 'ugghhh',\n",
       " 'plasi',\n",
       " 'themmnmmmmm',\n",
       " 'encantaaaaaa',\n",
       " 'symbolization',\n",
       " '1000000',\n",
       " 'kaput',\n",
       " 'purrfectly',\n",
       " 'kendall',\n",
       " 'brst',\n",
       " 'desiners',\n",
       " 'wowd',\n",
       " 'procedure',\n",
       " 'keyright',\n",
       " 'nonslips',\n",
       " 'outlast',\n",
       " 'folly',\n",
       " 'mnms',\n",
       " 'orherwise',\n",
       " 'panting',\n",
       " 'exoercism',\n",
       " 'swingset',\n",
       " 'modesty',\n",
       " 'daaged',\n",
       " 'tripper',\n",
       " 'conquest',\n",
       " 'evidently',\n",
       " 'telescop',\n",
       " 'impregnate',\n",
       " 'hha',\n",
       " 'heeead',\n",
       " 'uncoated',\n",
       " 'stargate',\n",
       " '2795',\n",
       " 'expeced',\n",
       " 'straighted',\n",
       " 'brillant',\n",
       " 'panache',\n",
       " 'headset',\n",
       " 'sponge',\n",
       " 'infotainment',\n",
       " 'orthopod',\n",
       " 'unaceptable',\n",
       " 'receivedo',\n",
       " 'adverage',\n",
       " 'momobaby',\n",
       " 'diper',\n",
       " 'easliy',\n",
       " 'prwtty',\n",
       " 'lovs',\n",
       " 'aquapac',\n",
       " 'henly',\n",
       " 'placinh',\n",
       " 'longgggggg',\n",
       " 'jibbet',\n",
       " 'carboned',\n",
       " 'ww2',\n",
       " 'paillettr',\n",
       " 'desechable',\n",
       " 'fantastical',\n",
       " 'shiggy',\n",
       " 'gettig',\n",
       " 'waah',\n",
       " '93lb',\n",
       " 'invisalign',\n",
       " 'bootman',\n",
       " '7b',\n",
       " 'diminuitive',\n",
       " 'brotherhood',\n",
       " 'coochy',\n",
       " 'correct',\n",
       " 'receptive',\n",
       " 'muslim',\n",
       " 'barricade',\n",
       " 'sertificate',\n",
       " 'bloch',\n",
       " 'compararing',\n",
       " 'gemstone',\n",
       " 'greatie',\n",
       " 'rhodium',\n",
       " 'autowinder',\n",
       " 'faud',\n",
       " 'flurite',\n",
       " 'b015a6c1ms',\n",
       " 'tonold',\n",
       " 'amazedly',\n",
       " 'ash',\n",
       " 'entregaron',\n",
       " 'weigh140',\n",
       " 'interchangable',\n",
       " 'againg',\n",
       " 'hatin',\n",
       " 'cosmopolitan',\n",
       " 'adoeable',\n",
       " 'b004hyln38',\n",
       " 'fsa',\n",
       " 'undustry',\n",
       " 'annieing',\n",
       " 'numersous',\n",
       " 'misrepresentative',\n",
       " '1934',\n",
       " 'inwouldnt',\n",
       " 'b00ip8f7am',\n",
       " 'vail',\n",
       " 'cmpression',\n",
       " 'b001aqjob4',\n",
       " 'mpse',\n",
       " 'kahn',\n",
       " 'puft',\n",
       " 'spousal',\n",
       " 'eeeww',\n",
       " 'vulgar',\n",
       " 'ececellent',\n",
       " '100f',\n",
       " 'girldfriend',\n",
       " 'clein',\n",
       " '2lbs',\n",
       " 'joie',\n",
       " 'coser',\n",
       " 'samurai',\n",
       " 'uneven',\n",
       " 'wow',\n",
       " 'soleil',\n",
       " '912l',\n",
       " '1cttw',\n",
       " 'granddaughther',\n",
       " 'rediculus',\n",
       " 'millenium',\n",
       " 'mscara',\n",
       " 'inflatable',\n",
       " 'priduct',\n",
       " 'physician',\n",
       " 'mayabeauty',\n",
       " 'thatvim',\n",
       " 'scholarship',\n",
       " 'duplicate',\n",
       " 'relaliable',\n",
       " 'all',\n",
       " 'crisscross',\n",
       " 'remorse',\n",
       " 'ecosox',\n",
       " '755',\n",
       " 'creasy',\n",
       " '5mo',\n",
       " 'tmnts',\n",
       " 'greating',\n",
       " 'b016yjsrws',\n",
       " 'cellphone',\n",
       " 'ligther',\n",
       " 'pobably',\n",
       " 'replenish',\n",
       " 'wong',\n",
       " 'petra',\n",
       " 'alchol',\n",
       " 'nprompt',\n",
       " 'montre',\n",
       " 'biodegradable',\n",
       " 'rexommend',\n",
       " 'engrish',\n",
       " 'robbery',\n",
       " 'aradani',\n",
       " 'cladpnis',\n",
       " 'beatuful',\n",
       " '9even',\n",
       " 'streching',\n",
       " 'peezy',\n",
       " 'conducer',\n",
       " 'keggings',\n",
       " 'dreaming',\n",
       " 'elephantito',\n",
       " 'fer',\n",
       " 'clush',\n",
       " 'c1f',\n",
       " 'connective',\n",
       " 'feng',\n",
       " 'chaimail',\n",
       " 'perf',\n",
       " 'haircut',\n",
       " 'cinturon',\n",
       " 'rogan',\n",
       " 'a1dr0dkl4ys',\n",
       " 'unsolitcitrd',\n",
       " '7750',\n",
       " 'humogous',\n",
       " 'synthentic',\n",
       " 'relacin',\n",
       " 'adpi',\n",
       " 'traction',\n",
       " '999',\n",
       " 'winston',\n",
       " 'skx009']"
      ]
     },
     "execution_count": 34,
     "metadata": {},
     "output_type": "execute_result"
    }
   ],
   "source": [
    "allreviewWords=set(allreviewWords)\n",
    "frequencyDistribution = nltk.FreqDist(allreviewWords)\n",
    "sorted(frequencyDistribution,key=frequencyDistribution.__getitem__,reverse=False)[0:200]"
   ]
  },
  {
   "cell_type": "code",
   "execution_count": 35,
   "metadata": {},
   "outputs": [],
   "source": [
    "def getWordCloud(wordList,color):\n",
    "    stopWords = set(STOPWORDS)\n",
    "    allWords = ' '.join([word for word in wordList])\n",
    "    wordCloud = WordCloud(background_color=color,\n",
    "                          stopwords=stopWords,\n",
    "                          width=1600,\n",
    "                          height=800,\n",
    "                          random_state=21,\n",
    "                          max_words=100,\n",
    "                          max_font_size=200).generate(allWords)\n",
    "    \n",
    "    plt.figure(figsize=(15, 10))\n",
    "    plt.axis('off')\n",
    "    plt.imshow(wordCloud, interpolation='bilinear');"
   ]
  },
  {
   "cell_type": "code",
   "execution_count": 36,
   "metadata": {},
   "outputs": [
    {
     "data": {
      "image/png": "[encoded data removed]",
      "text/plain": [
       "<Figure size 1080x720 with 1 Axes>"
      ]
     },
     "metadata": {},
     "output_type": "display_data"
    }
   ],
   "source": [
    "getWordCloud(allreviewWords,'black')"
   ]
  },
  {
   "cell_type": "code",
   "execution_count": 37,
   "metadata": {},
   "outputs": [],
   "source": [
    "dfmodel_data = dfSentimentScorepos"
   ]
  },
  {
   "cell_type": "code",
   "execution_count": 38,
   "metadata": {},
   "outputs": [
    {
     "name": "stdout",
     "output_type": "stream",
     "text": [
      "+-------+--------------------+-------------------------+--------------+------------+------------+------------+\n",
      "|overall|                lems|filteredCleanedreviewText|sentimentScore|sentimentneg|sentimentneu|sentimentpos|\n",
      "+-------+--------------------+-------------------------+--------------+------------+------------+------------+\n",
      "|    5.0|[exactly, need, p...|     exactly need perf...|        0.5719|         0.0|       0.448|       0.552|\n",
      "|    2.0|[agree, review, o...|     agree review open...|        0.6124|         0.0|         0.8|         0.2|\n",
      "|    4.0|[love, go, order,...|     love go order ano...|        0.8126|       0.085|       0.597|       0.318|\n",
      "|    2.0|[tiny, opening, t...|     tiny opening two ...|           0.0|         0.0|         1.0|         0.0|\n",
      "|    3.0| [okay, three, star]|          okay three star|        0.2263|         0.0|       0.513|       0.487|\n",
      "|    5.0|[exactly, want, f...|     exactly want five...|        0.0772|         0.0|       0.698|       0.302|\n",
      "|    4.0|[little, plastic,...|     little plastic ba...|         0.872|       0.173|       0.346|       0.481|\n",
      "|    3.0|[mother, law, wan...|     mother law want p...|        0.4215|         0.0|       0.678|       0.322|\n",
      "|    3.0|[item, good, qual...|     item good quality...|        0.9349|       0.026|       0.622|       0.352|\n",
      "|    3.0|[use, last, el, c...|     use last el cheap...|        0.9872|       0.053|       0.641|       0.305|\n",
      "|    4.0|[brand, around, l...|     brand around long...|        0.3182|       0.137|       0.609|       0.254|\n",
      "|    2.0|[smoke, 100, make...|     smoke 100 make ge...|        0.2732|       0.138|       0.667|       0.195|\n",
      "|    1.0|[cheap, cheesy, g...|     cheap cheesy gues...|        0.5859|         0.0|       0.759|       0.241|\n",
      "|    1.0|[order, lady, cig...|     order lady cigare...|        0.0516|       0.098|       0.767|       0.135|\n",
      "|    4.0|[receive, case, l...|     receive case less...|        0.3671|       0.132|       0.707|       0.161|\n",
      "|    3.0|[love, tear, shor...|     love tear shortly...|         0.926|         0.0|       0.545|       0.455|\n",
      "|    5.0|[love, look, than...|     love look thank p...|         0.886|         0.0|       0.161|       0.839|\n",
      "|    5.0|[quality, product...|     quality product h...|        0.8126|         0.0|       0.351|       0.649|\n",
      "|    4.0|[like, except, qu...|     like except quite...|        0.6743|         0.0|       0.779|       0.221|\n",
      "|    3.0|[small, expect, z...|     small expect zipp...|           0.0|         0.0|         1.0|         0.0|\n",
      "+-------+--------------------+-------------------------+--------------+------------+------------+------------+\n",
      "only showing top 20 rows\n",
      "\n"
     ]
    }
   ],
   "source": [
    "dfmodel_data.show()"
   ]
  },
  {
   "cell_type": "code",
   "execution_count": null,
   "metadata": {},
   "outputs": [],
   "source": []
  },
  {
   "cell_type": "code",
   "execution_count": null,
   "metadata": {},
   "outputs": [],
   "source": []
  },
  {
   "cell_type": "code",
   "execution_count": null,
   "metadata": {},
   "outputs": [],
   "source": []
  }
 ],
 "metadata": {
  "kernelspec": {
   "display_name": "Python 3",
   "language": "python",
   "name": "python3"
  },
  "language_info": {
   "codemirror_mode": {
    "name": "ipython",
    "version": 3
   },
   "file_extension": ".py",
   "mimetype": "text/x-python",
   "name": "python",
   "nbconvert_exporter": "python",
   "pygments_lexer": "ipython3",
   "version": "3.8.5"
  }
 },
 "nbformat": 4,
 "nbformat_minor": 4
}
